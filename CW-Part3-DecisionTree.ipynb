{
  "cells": [
    {
      "cell_type": "code",
      "execution_count": 51,
      "metadata": {
        "id": "gEoUykuxMqEH"
      },
      "outputs": [],
      "source": [
        "import pandas as pd\n",
        "# Scikit-Learn ≥0.20 is\n",
        "import sklearn\n",
        "assert sklearn.__version__ >= \"0.20\"\n",
        "import numpy as np\n",
        "from sklearn.tree import DecisionTreeClassifier,plot_tree\n",
        "from sklearn.datasets import make_classification\n",
        "from sklearn.discriminant_analysis import LinearDiscriminantAnalysis\n",
        "from sklearn.model_selection import train_test_split\n",
        "from sklearn.preprocessing import StandardScaler\n",
        "import numpy\n",
        "import matplotlib.pyplot as plt\n",
        "from matplotlib.colors import ListedColormap\n",
        "from sklearn.model_selection import cross_val_score\n",
        "from sklearn.model_selection import learning_curve\n",
        "from sklearn.metrics import accuracy_score"
      ]
    },
    {
      "cell_type": "code",
      "execution_count": 52,
      "metadata": {
        "id": "kCUyzW71d9h7"
      },
      "outputs": [],
      "source": [
        "#Fetching the 4 datasets\n",
        "y_train_all=pd.read_csv(\"y_train_all.csv\")\n",
        "x_train_all=pd.read_csv(\"x_train_all.csv\")\n",
        "y_test_all=pd.read_csv(\"y_test_all.csv\")\n",
        "x_test_all=pd.read_csv(\"x_test_all.csv\")"
      ]
    },
    {
      "cell_type": "markdown",
      "metadata": {
        "id": "FImf_MGvkIxP"
      },
      "source": [
        "**Using Decision trees on the training set to measure the accuracy.**"
      ]
    },
    {
      "cell_type": "code",
      "execution_count": 53,
      "metadata": {
        "id": "If1sZHo0kspq"
      },
      "outputs": [],
      "source": [
        "# Splitting the training data for learning, testing and validation\n",
        "x_train, x_test, y_train, y_test = train_test_split(x_train_all, y_train_all, test_size=0.2, random_state=42)"
      ]
    },
    {
      "cell_type": "markdown",
      "metadata": {
        "id": "INVxJsm0q0vf"
      },
      "source": [
        "Using the Linear Discriminant Analysis (LDA) to reduce the dimensionility of the features."
      ]
    },
    {
      "cell_type": "code",
      "execution_count": 54,
      "metadata": {
        "id": "OF7xmBEAliE1"
      },
      "outputs": [],
      "source": [
        "# Normalize feature data since LDA is affected by scale\n",
        "scaler = StandardScaler()\n",
        "X_train_scaled = scaler.fit_transform(x_train)\n",
        "X_test_scaled = scaler.transform(x_test)\n",
        "# Initialize LDA and fit it to the training data\n",
        "lda = LinearDiscriminantAnalysis(n_components=None)  # selecting the maximum number of possible features using LDA = number of classes-1\n",
        "X_train_lda = lda.fit_transform(X_train_scaled, y_train.values.ravel())\n",
        "X_test_lda = lda.transform(X_test_scaled)\n"
      ]
    },
    {
      "cell_type": "markdown",
      "metadata": {
        "id": "a0YxzZNHAC3B"
      },
      "source": [
        "```python\n",
        " Measuring the accuracy against the max_depth\n",
        "```"
      ]
    },
    {
      "cell_type": "code",
      "execution_count": 55,
      "metadata": {
        "colab": {
          "base_uri": "https://localhost:8080/",
          "height": 1000
        },
        "id": "OrYzAMwyDtBh",
        "outputId": "c13fff48-b898-4fd5-eb69-8bae5d30fce9"
      },
      "outputs": [
        {
          "name": "stdout",
          "output_type": "stream",
          "text": [
            "Max depth: 1, Accuracy: 38.65%\n",
            "Max depth: 2, Accuracy: 62.85%\n",
            "Max depth: 3, Accuracy: 66.41%\n",
            "Max depth: 4, Accuracy: 70.18%\n",
            "Max depth: 5, Accuracy: 76.42%\n",
            "Max depth: 6, Accuracy: 78.38%\n",
            "Max depth: 7, Accuracy: 77.61%\n",
            "Max depth: 8, Accuracy: 77.55%\n",
            "Max depth: 9, Accuracy: 77.14%\n",
            "Max depth: 10, Accuracy: 77.14%\n",
            "Max depth: 11, Accuracy: 77.55%\n",
            "Max depth: 12, Accuracy: 76.78%\n",
            "Max depth: 13, Accuracy: 77.19%\n",
            "Max depth: 14, Accuracy: 77.30%\n",
            "Max depth: 15, Accuracy: 77.86%\n",
            "Max depth: 16, Accuracy: 78.07%\n",
            "Max depth: 17, Accuracy: 78.07%\n",
            "Max depth: 18, Accuracy: 78.07%\n",
            "Max depth: 19, Accuracy: 78.07%\n"
          ]
        },
        {
          "data": {
            "image/png": "[encoded data removed]",
            "text/plain": [
              "<Figure size 864x432 with 1 Axes>"
            ]
          },
          "metadata": {
            "needs_background": "light"
          },
          "output_type": "display_data"
        }
      ],
      "source": [
        "\n",
        "def evaluate_max_depth_range(Xtrain,Xtest,yTrain, yTest, max_depth_range):\n",
        "    accuracies = []\n",
        "    # Loop over the desired depth range and record accuracy\n",
        "    for max_depth in max_depth_range:\n",
        "        clf = DecisionTreeClassifier(max_depth=max_depth, random_state=42)\n",
        "        clf.fit(Xtrain, yTrain)\n",
        "        y_pred = clf.predict(Xtest)\n",
        "        accuracy = accuracy_score(yTest, y_pred)\n",
        "        accuracies.append(accuracy)\n",
        "        print(f'Max depth: {max_depth}, Accuracy: {accuracy * 100:.2f}%')\n",
        "\n",
        "    # Create a DataFrame for easy visualization\n",
        "    results_df = pd.DataFrame({\n",
        "        'Max Depth': max_depth_range,\n",
        "        'Accuracy': accuracies\n",
        "    })\n",
        "\n",
        "    # Plotting the relationship between max_depth and accuracy\n",
        "    plt.figure(figsize=(12, 6))\n",
        "    plt.plot(max_depth_range, accuracies, marker='o')\n",
        "    plt.xlabel('Max Depth of Decision Tree')\n",
        "    plt.ylabel('Accuracy')\n",
        "    plt.title('Accuracy vs Max Depth for Decision Tree')\n",
        "    plt.grid(True)\n",
        "    plt.show()\n",
        "    # return results_df\n",
        "\n",
        "# Define the range of max_depth you want to evaluate\n",
        "max_depth_range = range(1, 20)  # Define a range from 1 to 20\n",
        "\n",
        "# Call the function with the loaded data and max depth range\n",
        "evaluate_max_depth_range(X_train_lda,X_test_lda, y_train,y_test, max_depth_range)\n"
      ]
    },
    {
      "cell_type": "markdown",
      "metadata": {},
      "source": [
        "Measure the accuracy on the training set using 10-fold cross-validation."
      ]
    },
    {
      "cell_type": "code",
      "execution_count": 56,
      "metadata": {
        "colab": {
          "base_uri": "https://localhost:8080/",
          "height": 1000
        },
        "id": "chOc5sUYlQ5I",
        "outputId": "e3dcd6ff-fe6e-4539-c43b-2d60ec0b1893"
      },
      "outputs": [
        {
          "name": "stdout",
          "output_type": "stream",
          "text": [
            "Max depth: 1, Mean Accuracy: 41.98%, Standard Deviation: 0.55%\n",
            "Max depth: 2, Mean Accuracy: 72.43%, Standard Deviation: 0.94%\n",
            "Max depth: 3, Mean Accuracy: 80.59%, Standard Deviation: 0.88%\n",
            "Max depth: 4, Mean Accuracy: 87.47%, Standard Deviation: 0.69%\n",
            "Max depth: 5, Mean Accuracy: 92.03%, Standard Deviation: 0.71%\n",
            "Max depth: 6, Mean Accuracy: 93.25%, Standard Deviation: 0.77%\n",
            "Max depth: 7, Mean Accuracy: 94.00%, Standard Deviation: 0.67%\n",
            "Max depth: 8, Mean Accuracy: 94.22%, Standard Deviation: 0.54%\n",
            "Max depth: 9, Mean Accuracy: 94.44%, Standard Deviation: 0.37%\n",
            "Max depth: 10, Mean Accuracy: 94.52%, Standard Deviation: 0.71%\n",
            "Max depth: 11, Mean Accuracy: 94.27%, Standard Deviation: 0.74%\n",
            "Max depth: 12, Mean Accuracy: 94.31%, Standard Deviation: 0.62%\n",
            "Max depth: 13, Mean Accuracy: 94.17%, Standard Deviation: 0.69%\n",
            "Max depth: 14, Mean Accuracy: 94.19%, Standard Deviation: 0.79%\n",
            "Max depth: 15, Mean Accuracy: 94.00%, Standard Deviation: 0.67%\n",
            "Max depth: 16, Mean Accuracy: 94.05%, Standard Deviation: 0.74%\n",
            "Max depth: 17, Mean Accuracy: 94.07%, Standard Deviation: 0.70%\n",
            "Max depth: 18, Mean Accuracy: 94.04%, Standard Deviation: 0.69%\n",
            "Max depth: 19, Mean Accuracy: 94.07%, Standard Deviation: 0.71%\n"
          ]
        },
        {
          "data": {
            "image/png": "[encoded data removed]",
            "text/plain": [
              "<Figure size 864x432 with 1 Axes>"
            ]
          },
          "metadata": {
            "needs_background": "light"
          },
          "output_type": "display_data"
        }
      ],
      "source": [
        "\n",
        "# Defining a function to\n",
        "def evaluate_max_depth_range_with_cv(X, y, max_depth_range, cv_folds):\n",
        "    mean_accuracies = []\n",
        "    std_accuracies = []\n",
        "    # Loop over the desired depth range and record accuracy\n",
        "    for max_depth in max_depth_range:\n",
        "        clf = DecisionTreeClassifier(max_depth=max_depth, random_state=42)\n",
        "        # Perform cross-validation and obtain the mean and standard deviation of the scores\n",
        "        scores = cross_val_score(clf, X, y.values.ravel(), cv=cv_folds, scoring='accuracy')\n",
        "        mean_accuracies.append(scores.mean())\n",
        "        std_accuracies.append(scores.std())\n",
        "        print(f'Max depth: {max_depth}, Mean Accuracy: {scores.mean() * 100:.2f}%, Standard Deviation: {scores.std() * 100:.2f}%')\n",
        "\n",
        "    # Create a DataFrame for easy table visualization\n",
        "    results_df = pd.DataFrame({\n",
        "        'Max Depth': max_depth_range,\n",
        "        'Mean Accuracy': mean_accuracies,\n",
        "        'Accuracy Std Deviation': std_accuracies\n",
        "    })\n",
        "    # Plotting the relationship between max_depth and mean accuracy\n",
        "    plt.figure(figsize=(12, 6))\n",
        "    plt.errorbar(max_depth_range, mean_accuracies, yerr=std_accuracies, fmt='o')\n",
        "    plt.xlabel('Max Depth of Decision Tree')\n",
        "    plt.ylabel('Mean Accuracy (with std deviation)')\n",
        "    plt.title('Mean Accuracy vs Max Depth for Decision Tree with 10-fold CV')\n",
        "    plt.grid(True)\n",
        "    plt.show()\n",
        "\n",
        "    return results_df\n",
        "\n",
        "# Define the range of max_depth you want to evaluate\n",
        "max_depth_range = range(1, 20)  # Define a range from 1 to 20\n",
        "\n",
        "# Calling the function with the loaded data, max depth range, and number of cross-validation folds\n",
        "results_df = evaluate_max_depth_range_with_cv(X_train_lda, y_train, max_depth_range, cv_folds=10)\n"
      ]
    },
    {
      "cell_type": "markdown",
      "metadata": {},
      "source": [
        "The accuracy measured on the training set is consistently lower than the mean accuracy obtained from cross-validation. This could be because the training set accuracy is a more pessimistic estimate when the tree depth is shallow (since a shallow tree may be too simple to capture all patterns in the training data), but as depth increases, it becomes an over-optimistic estimate due to overfitting.\n",
        "Cross-validation results are more reliable as they give an averaged out performance across multiple subsets of the data, mitigating the chance of an overfitting impact seen in the single training set evaluation.\n",
        "In conclusion, increasing the maximum depth of a decision tree generally allows it to perform better up to a point, after which the benefits diminish and may even reverse due to overfitting. **The optimal depth in this case appears to be around 10, where the model achieves the highest mean accuracy with cross-validation without an increase in standard deviation**, *indicating a good balance between model complexity and generalizability.*"
      ]
    },
    {
      "cell_type": "markdown",
      "metadata": {},
      "source": [
        "**Repeating the experiment, this time using training and testing data sets instead of the cross validation.**"
      ]
    },
    {
      "cell_type": "code",
      "execution_count": 57,
      "metadata": {},
      "outputs": [
        {
          "name": "stdout",
          "output_type": "stream",
          "text": [
            "Max depth: 1, Accuracy: 41.75%\n",
            "Max depth: 2, Accuracy: 61.55%\n",
            "Max depth: 3, Accuracy: 62.78%\n",
            "Max depth: 4, Accuracy: 68.61%\n",
            "Max depth: 5, Accuracy: 70.45%\n",
            "Max depth: 6, Accuracy: 72.94%\n",
            "Max depth: 7, Accuracy: 75.08%\n",
            "Max depth: 8, Accuracy: 75.21%\n",
            "Max depth: 9, Accuracy: 76.57%\n",
            "Max depth: 10, Accuracy: 76.25%\n",
            "Max depth: 11, Accuracy: 76.05%\n",
            "Max depth: 12, Accuracy: 75.31%\n",
            "Max depth: 13, Accuracy: 75.60%\n",
            "Max depth: 14, Accuracy: 75.11%\n",
            "Max depth: 15, Accuracy: 75.89%\n",
            "Max depth: 16, Accuracy: 76.05%\n",
            "Max depth: 17, Accuracy: 75.63%\n",
            "Max depth: 18, Accuracy: 75.63%\n",
            "Max depth: 19, Accuracy: 75.63%\n"
          ]
        },
        {
          "data": {
            "image/png": "[encoded data removed]",
            "text/plain": [
              "<Figure size 864x432 with 1 Axes>"
            ]
          },
          "metadata": {
            "needs_background": "light"
          },
          "output_type": "display_data"
        }
      ],
      "source": [
        "# Normalize feature data since LDA is affected by scale\n",
        "scaler = StandardScaler()\n",
        "X_train_all_scaled = scaler.fit_transform(x_train_all)\n",
        "X_test_all_scaled = scaler.transform(x_test_all)\n",
        "# Initialize LDA and fit it to the training data\n",
        "lda = LinearDiscriminantAnalysis(n_components=None)  # selecting the maximum number of possible features using LDA = number of classes-1\n",
        "X_train_all_lda = lda.fit_transform(X_train_all_scaled, y_train_all.values.ravel())\n",
        "X_test_all_lda = lda.transform(X_test_all_scaled)\n",
        "evaluate_max_depth_range(X_train_all_lda,X_test_all_lda, y_train_all,y_test_all, max_depth_range)"
      ]
    },
    {
      "cell_type": "code",
      "execution_count": 58,
      "metadata": {},
      "outputs": [
        {
          "name": "stdout",
          "output_type": "stream",
          "text": [
            "Max depth: 1, Mean Accuracy: 41.17%, Standard Deviation: 0.88%\n",
            "Max depth: 2, Mean Accuracy: 59.55%, Standard Deviation: 2.07%\n",
            "Max depth: 3, Mean Accuracy: 65.83%, Standard Deviation: 1.46%\n",
            "Max depth: 4, Mean Accuracy: 71.81%, Standard Deviation: 1.77%\n",
            "Max depth: 5, Mean Accuracy: 74.95%, Standard Deviation: 1.78%\n",
            "Max depth: 6, Mean Accuracy: 77.80%, Standard Deviation: 1.76%\n",
            "Max depth: 7, Mean Accuracy: 78.67%, Standard Deviation: 2.25%\n",
            "Max depth: 8, Mean Accuracy: 79.09%, Standard Deviation: 2.11%\n",
            "Max depth: 9, Mean Accuracy: 79.06%, Standard Deviation: 2.03%\n",
            "Max depth: 10, Mean Accuracy: 78.48%, Standard Deviation: 2.19%\n",
            "Max depth: 11, Mean Accuracy: 78.71%, Standard Deviation: 1.68%\n",
            "Max depth: 12, Mean Accuracy: 78.83%, Standard Deviation: 2.34%\n",
            "Max depth: 13, Mean Accuracy: 78.64%, Standard Deviation: 2.65%\n",
            "Max depth: 14, Mean Accuracy: 78.64%, Standard Deviation: 2.01%\n",
            "Max depth: 15, Mean Accuracy: 78.25%, Standard Deviation: 1.94%\n",
            "Max depth: 16, Mean Accuracy: 77.73%, Standard Deviation: 2.07%\n",
            "Max depth: 17, Mean Accuracy: 78.03%, Standard Deviation: 1.94%\n",
            "Max depth: 18, Mean Accuracy: 78.06%, Standard Deviation: 2.01%\n",
            "Max depth: 19, Mean Accuracy: 78.03%, Standard Deviation: 1.96%\n"
          ]
        },
        {
          "data": {
            "image/png": "[encoded data removed]",
            "text/plain": [
              "<Figure size 864x432 with 1 Axes>"
            ]
          },
          "metadata": {
            "needs_background": "light"
          },
          "output_type": "display_data"
        }
      ],
      "source": [
        "# Calling the function with the loaded data, max depth range, and number of cross-validation folds\n",
        "results_df = evaluate_max_depth_range_with_cv(X_test_all_lda, y_test_all, max_depth_range, cv_folds=10)"
      ]
    },
    {
      "cell_type": "markdown",
      "metadata": {},
      "source": [
        "# Observations\n",
        "- For shallow trees (small max depth), the accuracy is quite low on both the training and testing sets, indicating underfitting, where the model is too simple to capture the underlying patterns in the data.\n",
        "  \n",
        "- As the depth increases, we see that the accuracy on the training set generally increases, which is expected because the model can capture more complex patterns with more decision rules. However, we are looking for the model's accuracy on the testing set to increase similarly, which would suggest that the complexity added to the model is capturing general patterns rather than noise.\n",
        "\n",
        "- At greater depths (max depth 6 and beyond), the accuracy on the training set continues to rise, peaking around depth 6, and then it begins to plateau or slightly decrease. Meanwhile, the testing set accuracy increases until about a max depth of 9, where it reaches its peak before it starts to decline or fluctuate.\n",
        "\n",
        "- The highest accuracy on the testing set is at max depth 9 with 76.57%, and the training set shows slightly higher figures at deeper levels, which is typical due to overfitting. But the fact that the testing accuracy doesn't fall off dramatically at greater depths is a good sign—it means the model has learned patterns that are at least somewhat generalizable.\n",
        "- The accuracy on the testing set either declines or stabilizes, but does not improve significantly. This indicates that increasing the depth beyond this point does not help the model perform better on new data, which is a sign of overfitting to the training set.\n",
        "\n",
        "\n",
        "- The mean accuracy improves dramatically as the tree depth increases, peaking at depth 10 with a mean accuracy of 94.52% and a standard deviation of 0.71%.\n",
        "- The low standard deviation across all depths indicates that the model's performance is stable across different folds of the training data.\n",
        "- The high mean accuracy suggests the model fits the training data very well at greater depths.\n",
        "\n",
        "Cross-Validation on Unseen Dataset:\n",
        "- The accuracy on the unseen dataset also increases with depth but plateaus and begins to decrease after depth 8.\n",
        "- The mean accuracy on the unseen data for max depth 8 is 79.09%, with a standard deviation of 2.11%. The increase in standard deviation as compared to the training data suggests that the model's performance is less stable when generalized to new data.\n",
        "- After depth 8, there's a decrease in mean accuracy and an increase in standard deviation, which suggests that the model may start to overfit the training data. This overfitting is indicated by the model performing less consistently on the unseen data.\n",
        "\n",
        "- Optimal Depth: The optimal tree depth for this model is around 8, where the accuracy on unseen data is the highest. Beyond this depth, we don't see significant improvement in the mean accuracy, and there's an increase in variability (standard deviation), which likely indicates overfitting.\n",
        "- Overfitting Beyond Optimal Depth: Beyond the optimal depth (after depth 8), the model's accuracy on the unseen dataset begins to stagnate or decrease slightly, and variability increases. This is a classic sign that the model has begun to memorize the training data rather than learning generalizable patterns.\n",
        "- Generalization: Up to a tree depth of 8, the model seems to generalize well, as evidenced by increasing accuracy on the unseen data. However, the discrepancy between training and unseen data accuracies at greater depths indicates that what the model learns afterward does not apply as effectively to new data.\n",
        "\n",
        "Conclusion:\n",
        "The decision tree model performs best on unseen data at a depth of 8, beyond which the added complexity does not translate to improved generalization. To optimize the model, it would be advisable to restrict the depth to this level or use other forms of regularization, such as adjusting the confidence threshold for pruning or the minimum number of samples per leaf, to prevent the model from overfitting.\n"
      ]
    },
    {
      "cell_type": "markdown",
      "metadata": {},
      "source": [
        "**Model Fine tuning** "
      ]
    },
    {
      "cell_type": "markdown",
      "metadata": {},
      "source": [
        "**Experimenting with various decision tree parameters that control the depth of the tree, confidence threshold for pruning, and the minimal number of instances permissible per leaf.** "
      ]
    },
    {
      "cell_type": "code",
      "execution_count": 83,
      "metadata": {},
      "outputs": [
        {
          "data": {
            "text/html": [
              "<div>\n",
              "<style scoped>\n",
              "    .dataframe tbody tr th:only-of-type {\n",
              "        vertical-align: middle;\n",
              "    }\n",
              "\n",
              "    .dataframe tbody tr th {\n",
              "        vertical-align: top;\n",
              "    }\n",
              "\n",
              "    .dataframe thead th {\n",
              "        text-align: right;\n",
              "    }\n",
              "</style>\n",
              "<table border=\"1\" class=\"dataframe\">\n",
              "  <thead>\n",
              "    <tr style=\"text-align: right;\">\n",
              "      <th></th>\n",
              "      <th>max_depth</th>\n",
              "      <th>min_samples_leaf</th>\n",
              "      <th>criterion</th>\n",
              "      <th>ccp_alpha</th>\n",
              "      <th>mean_cv_score</th>\n",
              "      <th>std_cv_score</th>\n",
              "      <th>test_score</th>\n",
              "    </tr>\n",
              "  </thead>\n",
              "  <tbody>\n",
              "    <tr>\n",
              "      <th>155</th>\n",
              "      <td>7</td>\n",
              "      <td>5</td>\n",
              "      <td>entropy</td>\n",
              "      <td>0.0</td>\n",
              "      <td>0.924768</td>\n",
              "      <td>0.020220</td>\n",
              "      <td>0.787379</td>\n",
              "    </tr>\n",
              "    <tr>\n",
              "      <th>165</th>\n",
              "      <td>7</td>\n",
              "      <td>10</td>\n",
              "      <td>entropy</td>\n",
              "      <td>0.0</td>\n",
              "      <td>0.922188</td>\n",
              "      <td>0.026084</td>\n",
              "      <td>0.781877</td>\n",
              "    </tr>\n",
              "    <tr>\n",
              "      <th>225</th>\n",
              "      <td>8</td>\n",
              "      <td>5</td>\n",
              "      <td>entropy</td>\n",
              "      <td>0.0</td>\n",
              "      <td>0.929102</td>\n",
              "      <td>0.016246</td>\n",
              "      <td>0.781230</td>\n",
              "    </tr>\n",
              "    <tr>\n",
              "      <th>295</th>\n",
              "      <td>9</td>\n",
              "      <td>5</td>\n",
              "      <td>entropy</td>\n",
              "      <td>0.0</td>\n",
              "      <td>0.929825</td>\n",
              "      <td>0.014675</td>\n",
              "      <td>0.779935</td>\n",
              "    </tr>\n",
              "    <tr>\n",
              "      <th>175</th>\n",
              "      <td>7</td>\n",
              "      <td>15</td>\n",
              "      <td>entropy</td>\n",
              "      <td>0.0</td>\n",
              "      <td>0.925903</td>\n",
              "      <td>0.020860</td>\n",
              "      <td>0.779288</td>\n",
              "    </tr>\n",
              "    <tr>\n",
              "      <th>215</th>\n",
              "      <td>8</td>\n",
              "      <td>1</td>\n",
              "      <td>entropy</td>\n",
              "      <td>0.0</td>\n",
              "      <td>0.929928</td>\n",
              "      <td>0.017073</td>\n",
              "      <td>0.778964</td>\n",
              "    </tr>\n",
              "    <tr>\n",
              "      <th>365</th>\n",
              "      <td>10</td>\n",
              "      <td>5</td>\n",
              "      <td>entropy</td>\n",
              "      <td>0.0</td>\n",
              "      <td>0.928277</td>\n",
              "      <td>0.016661</td>\n",
              "      <td>0.778641</td>\n",
              "    </tr>\n",
              "    <tr>\n",
              "      <th>435</th>\n",
              "      <td>11</td>\n",
              "      <td>5</td>\n",
              "      <td>entropy</td>\n",
              "      <td>0.0</td>\n",
              "      <td>0.928277</td>\n",
              "      <td>0.015876</td>\n",
              "      <td>0.778317</td>\n",
              "    </tr>\n",
              "    <tr>\n",
              "      <th>285</th>\n",
              "      <td>9</td>\n",
              "      <td>1</td>\n",
              "      <td>entropy</td>\n",
              "      <td>0.0</td>\n",
              "      <td>0.930857</td>\n",
              "      <td>0.016819</td>\n",
              "      <td>0.777346</td>\n",
              "    </tr>\n",
              "    <tr>\n",
              "      <th>145</th>\n",
              "      <td>7</td>\n",
              "      <td>1</td>\n",
              "      <td>entropy</td>\n",
              "      <td>0.0</td>\n",
              "      <td>0.926729</td>\n",
              "      <td>0.018984</td>\n",
              "      <td>0.777346</td>\n",
              "    </tr>\n",
              "  </tbody>\n",
              "</table>\n",
              "</div>"
            ],
            "text/plain": [
              "     max_depth  min_samples_leaf criterion  ccp_alpha  mean_cv_score  \\\n",
              "155          7                 5   entropy        0.0       0.924768   \n",
              "165          7                10   entropy        0.0       0.922188   \n",
              "225          8                 5   entropy        0.0       0.929102   \n",
              "295          9                 5   entropy        0.0       0.929825   \n",
              "175          7                15   entropy        0.0       0.925903   \n",
              "215          8                 1   entropy        0.0       0.929928   \n",
              "365         10                 5   entropy        0.0       0.928277   \n",
              "435         11                 5   entropy        0.0       0.928277   \n",
              "285          9                 1   entropy        0.0       0.930857   \n",
              "145          7                 1   entropy        0.0       0.926729   \n",
              "\n",
              "     std_cv_score  test_score  \n",
              "155      0.020220    0.787379  \n",
              "165      0.026084    0.781877  \n",
              "225      0.016246    0.781230  \n",
              "295      0.014675    0.779935  \n",
              "175      0.020860    0.779288  \n",
              "215      0.017073    0.778964  \n",
              "365      0.016661    0.778641  \n",
              "435      0.015876    0.778317  \n",
              "285      0.016819    0.777346  \n",
              "145      0.018984    0.777346  "
            ]
          },
          "execution_count": 83,
          "metadata": {},
          "output_type": "execute_result"
        }
      ],
      "source": [
        "# Since the code execution environment was reset, we'll need to re-define the function and import the required libraries again.\n",
        "import pandas as pd\n",
        "from sklearn.tree import DecisionTreeClassifier\n",
        "from sklearn.model_selection import cross_val_score\n",
        "import numpy as np\n",
        "\n",
        "# Function to run experiments on decision tree parameters\n",
        "def run_decision_tree_experiments(x, y, xt, yt):\n",
        "    # Define a range of parameters\n",
        "    max_depths = [5, 6, 7, 8, 9, 10, 11]  # Explore a range of depths\n",
        "    min_samples_leafs = [1, 5, 10, 15, 20, 25, 30]  # Increased range\n",
        "    criteria = ['gini', 'entropy']  # Both splitting criteria\n",
        "    ccp_alphas = [0.0, 0.005, 0.01, 0.015, 0.02]  # Expanded range\n",
        "\n",
        "    # Store the results\n",
        "    experiment_results = []\n",
        "\n",
        "    # Nested loops to try out different combinations of parameters\n",
        "    for max_depth in max_depths:\n",
        "        for min_samples_leaf in min_samples_leafs:\n",
        "            for criterion in criteria:\n",
        "                for ccp_alpha in ccp_alphas:\n",
        "                    # Initialize the DecisionTreeClassifier with current set of parameters\n",
        "                    dt = DecisionTreeClassifier(max_depth=max_depth, \n",
        "                                                min_samples_leaf=min_samples_leaf, \n",
        "                                                criterion=criterion, \n",
        "                                                ccp_alpha=ccp_alpha, \n",
        "                                                random_state=0)\n",
        "                    \n",
        "                    # Perform 10-fold cross-validation on the training data\n",
        "                    cv_scores = cross_val_score(dt, x, y.values.ravel(), cv=10)\n",
        "                    mean_cv_score = np.mean(cv_scores)\n",
        "                    std_cv_score = np.std(cv_scores)\n",
        "                    \n",
        "                    # Fit the model and evaluate on the test set\n",
        "                    dt.fit(x, y.values.ravel())\n",
        "                    test_score = dt.score(xt, yt.values.ravel())\n",
        "                    \n",
        "                    # Record the results\n",
        "                    experiment_results.append({\n",
        "                        'max_depth': max_depth,\n",
        "                        'min_samples_leaf': min_samples_leaf,\n",
        "                        'criterion': criterion,\n",
        "                        'ccp_alpha': ccp_alpha,\n",
        "                        'mean_cv_score': mean_cv_score,\n",
        "                        'std_cv_score': std_cv_score,\n",
        "                        'test_score': test_score\n",
        "                    })\n",
        "# Convert results to DataFrame and sort by test score to find the best generalizing models\n",
        "    results_df = pd.DataFrame(experiment_results)\n",
        "    best_models = results_df.sort_values(by='test_score', ascending=False).head(10)\n",
        "    return best_models\n",
        "# Runing the experiments\n",
        "experiment_results_df = run_decision_tree_experiments(X_train_all_lda, y_train_all, X_test_all_lda, y_test_all)\n",
        "experiment_results_df\n"
      ]
    },
    {
      "cell_type": "code",
      "execution_count": 74,
      "metadata": {},
      "outputs": [
        {
          "data": {
            "text/html": [
              "<div>\n",
              "<style scoped>\n",
              "    .dataframe tbody tr th:only-of-type {\n",
              "        vertical-align: middle;\n",
              "    }\n",
              "\n",
              "    .dataframe tbody tr th {\n",
              "        vertical-align: top;\n",
              "    }\n",
              "\n",
              "    .dataframe thead th {\n",
              "        text-align: right;\n",
              "    }\n",
              "</style>\n",
              "<table border=\"1\" class=\"dataframe\">\n",
              "  <thead>\n",
              "    <tr style=\"text-align: right;\">\n",
              "      <th></th>\n",
              "      <th>max_depth</th>\n",
              "      <th>min_samples_leaf</th>\n",
              "      <th>criterion</th>\n",
              "      <th>ccp_alpha</th>\n",
              "      <th>mean_cv_score</th>\n",
              "      <th>std_cv_score</th>\n",
              "      <th>test_score</th>\n",
              "    </tr>\n",
              "  </thead>\n",
              "  <tbody>\n",
              "    <tr>\n",
              "      <th>416</th>\n",
              "      <td>10</td>\n",
              "      <td>30</td>\n",
              "      <td>entropy</td>\n",
              "      <td>0.005</td>\n",
              "      <td>0.917441</td>\n",
              "      <td>0.022511</td>\n",
              "      <td>0.761812</td>\n",
              "    </tr>\n",
              "    <tr>\n",
              "      <th>75</th>\n",
              "      <td>6</td>\n",
              "      <td>1</td>\n",
              "      <td>entropy</td>\n",
              "      <td>0.000</td>\n",
              "      <td>0.920537</td>\n",
              "      <td>0.024926</td>\n",
              "      <td>0.761812</td>\n",
              "    </tr>\n",
              "    <tr>\n",
              "      <th>276</th>\n",
              "      <td>8</td>\n",
              "      <td>30</td>\n",
              "      <td>entropy</td>\n",
              "      <td>0.005</td>\n",
              "      <td>0.917441</td>\n",
              "      <td>0.022511</td>\n",
              "      <td>0.761812</td>\n",
              "    </tr>\n",
              "    <tr>\n",
              "      <th>370</th>\n",
              "      <td>10</td>\n",
              "      <td>10</td>\n",
              "      <td>gini</td>\n",
              "      <td>0.000</td>\n",
              "      <td>0.920537</td>\n",
              "      <td>0.025713</td>\n",
              "      <td>0.761812</td>\n",
              "    </tr>\n",
              "    <tr>\n",
              "      <th>126</th>\n",
              "      <td>6</td>\n",
              "      <td>25</td>\n",
              "      <td>entropy</td>\n",
              "      <td>0.005</td>\n",
              "      <td>0.917028</td>\n",
              "      <td>0.023840</td>\n",
              "      <td>0.762460</td>\n",
              "    </tr>\n",
              "    <tr>\n",
              "      <th>266</th>\n",
              "      <td>8</td>\n",
              "      <td>25</td>\n",
              "      <td>entropy</td>\n",
              "      <td>0.005</td>\n",
              "      <td>0.918576</td>\n",
              "      <td>0.022706</td>\n",
              "      <td>0.762460</td>\n",
              "    </tr>\n",
              "    <tr>\n",
              "      <th>476</th>\n",
              "      <td>11</td>\n",
              "      <td>25</td>\n",
              "      <td>entropy</td>\n",
              "      <td>0.005</td>\n",
              "      <td>0.918576</td>\n",
              "      <td>0.022706</td>\n",
              "      <td>0.762460</td>\n",
              "    </tr>\n",
              "    <tr>\n",
              "      <th>406</th>\n",
              "      <td>10</td>\n",
              "      <td>25</td>\n",
              "      <td>entropy</td>\n",
              "      <td>0.005</td>\n",
              "      <td>0.918576</td>\n",
              "      <td>0.022706</td>\n",
              "      <td>0.762460</td>\n",
              "    </tr>\n",
              "    <tr>\n",
              "      <th>336</th>\n",
              "      <td>9</td>\n",
              "      <td>25</td>\n",
              "      <td>entropy</td>\n",
              "      <td>0.005</td>\n",
              "      <td>0.918576</td>\n",
              "      <td>0.022706</td>\n",
              "      <td>0.762460</td>\n",
              "    </tr>\n",
              "    <tr>\n",
              "      <th>196</th>\n",
              "      <td>7</td>\n",
              "      <td>25</td>\n",
              "      <td>entropy</td>\n",
              "      <td>0.005</td>\n",
              "      <td>0.918473</td>\n",
              "      <td>0.022662</td>\n",
              "      <td>0.762460</td>\n",
              "    </tr>\n",
              "  </tbody>\n",
              "</table>\n",
              "</div>"
            ],
            "text/plain": [
              "     max_depth  min_samples_leaf criterion  ccp_alpha  mean_cv_score  \\\n",
              "416         10                30   entropy      0.005       0.917441   \n",
              "75           6                 1   entropy      0.000       0.920537   \n",
              "276          8                30   entropy      0.005       0.917441   \n",
              "370         10                10      gini      0.000       0.920537   \n",
              "126          6                25   entropy      0.005       0.917028   \n",
              "266          8                25   entropy      0.005       0.918576   \n",
              "476         11                25   entropy      0.005       0.918576   \n",
              "406         10                25   entropy      0.005       0.918576   \n",
              "336          9                25   entropy      0.005       0.918576   \n",
              "196          7                25   entropy      0.005       0.918473   \n",
              "\n",
              "     std_cv_score  test_score  \n",
              "416      0.022511    0.761812  \n",
              "75       0.024926    0.761812  \n",
              "276      0.022511    0.761812  \n",
              "370      0.025713    0.761812  \n",
              "126      0.023840    0.762460  \n",
              "266      0.022706    0.762460  \n",
              "476      0.022706    0.762460  \n",
              "406      0.022706    0.762460  \n",
              "336      0.022706    0.762460  \n",
              "196      0.022662    0.762460  "
            ]
          },
          "execution_count": 74,
          "metadata": {},
          "output_type": "execute_result"
        }
      ],
      "source": [
        "experiment_results_df.sort_values(\"test_score\").head(10)"
      ]
    },
    {
      "cell_type": "markdown",
      "metadata": {},
      "source": [
        "Conclusion:  \n",
        "\n",
        "- Model accuracy increases with tree depth, showing better pattern recognition with more complexity, up to a certain point.\n",
        "\n",
        "\n",
        "- Beyond a depth of 6, accuracy gains are minimal, **hinting at overfitting** where the model may start to learn the noise in the training data.\n",
        "Optimal Depth Determination:\n",
        "\n",
        "- A tree depth of **6 or 7** yields the **best trade-off between accuracy and model simplicity**, indicating these levels as **optimal for preventing overfitting while maintaining high predictive performance.**\n",
        "\n",
        "- Regularization introduced through **ccp_alpha** shows varied effects; however, the best results were obtained **without its application**, suggesting minimal benefit from pruning in this context."
      ]
    },
    {
      "cell_type": "markdown",
      "metadata": {},
      "source": [
        "**Make new training and testing sets, by moving 30% of the instances from the original training set into the testing set. Note the accuracies on the training and the testing sets**"
      ]
    },
    {
      "cell_type": "code",
      "execution_count": 84,
      "metadata": {},
      "outputs": [],
      "source": [
        "# Splitting the training data for learning, testing and validation\n",
        "x_train7030, x_test7030, y_train7030, y_test7030 = train_test_split(x_train_all, y_train_all, test_size=0.3, random_state=42)\n",
        "\n",
        "# Normalize feature data since LDA is affected by scale\n",
        "scaler = StandardScaler()\n",
        "X_train_scaled = scaler.fit_transform(x_train7030)\n",
        "X_test_scaled = scaler.transform(x_test7030)\n",
        "# Initialize LDA and fit it to the training data\n",
        "lda = LinearDiscriminantAnalysis(n_components=None)  # selecting the maximum number of possible features using LDA = number of classes-1\n",
        "X_train_lda7030 = lda.fit_transform(X_train_scaled, y_train7030.values.ravel())\n",
        "X_test_lda7030 = lda.transform(X_test_scaled)"
      ]
    },
    {
      "cell_type": "code",
      "execution_count": 85,
      "metadata": {},
      "outputs": [],
      "source": [
        "# Expriminting the model with 70-30% splitting ratio \n",
        "experiment_results_df7030 = run_decision_tree_experiments(X_train_lda7030, y_train7030, X_test_lda7030, y_test7030)\n"
      ]
    },
    {
      "cell_type": "code",
      "execution_count": 87,
      "metadata": {},
      "outputs": [
        {
          "data": {
            "text/html": [
              "<div>\n",
              "<style scoped>\n",
              "    .dataframe tbody tr th:only-of-type {\n",
              "        vertical-align: middle;\n",
              "    }\n",
              "\n",
              "    .dataframe tbody tr th {\n",
              "        vertical-align: top;\n",
              "    }\n",
              "\n",
              "    .dataframe thead th {\n",
              "        text-align: right;\n",
              "    }\n",
              "</style>\n",
              "<table border=\"1\" class=\"dataframe\">\n",
              "  <thead>\n",
              "    <tr style=\"text-align: right;\">\n",
              "      <th></th>\n",
              "      <th>max_depth</th>\n",
              "      <th>min_samples_leaf</th>\n",
              "      <th>criterion</th>\n",
              "      <th>ccp_alpha</th>\n",
              "      <th>mean_cv_score</th>\n",
              "      <th>std_cv_score</th>\n",
              "      <th>test_score</th>\n",
              "    </tr>\n",
              "  </thead>\n",
              "  <tbody>\n",
              "    <tr>\n",
              "      <th>145</th>\n",
              "      <td>7</td>\n",
              "      <td>1</td>\n",
              "      <td>entropy</td>\n",
              "      <td>0.0</td>\n",
              "      <td>0.948103</td>\n",
              "      <td>0.008196</td>\n",
              "      <td>0.759202</td>\n",
              "    </tr>\n",
              "    <tr>\n",
              "      <th>435</th>\n",
              "      <td>11</td>\n",
              "      <td>5</td>\n",
              "      <td>entropy</td>\n",
              "      <td>0.0</td>\n",
              "      <td>0.946629</td>\n",
              "      <td>0.008427</td>\n",
              "      <td>0.755762</td>\n",
              "    </tr>\n",
              "    <tr>\n",
              "      <th>295</th>\n",
              "      <td>9</td>\n",
              "      <td>5</td>\n",
              "      <td>entropy</td>\n",
              "      <td>0.0</td>\n",
              "      <td>0.946482</td>\n",
              "      <td>0.008225</td>\n",
              "      <td>0.755418</td>\n",
              "    </tr>\n",
              "    <tr>\n",
              "      <th>225</th>\n",
              "      <td>8</td>\n",
              "      <td>5</td>\n",
              "      <td>entropy</td>\n",
              "      <td>0.0</td>\n",
              "      <td>0.947513</td>\n",
              "      <td>0.007827</td>\n",
              "      <td>0.754730</td>\n",
              "    </tr>\n",
              "    <tr>\n",
              "      <th>215</th>\n",
              "      <td>8</td>\n",
              "      <td>1</td>\n",
              "      <td>entropy</td>\n",
              "      <td>0.0</td>\n",
              "      <td>0.949135</td>\n",
              "      <td>0.006654</td>\n",
              "      <td>0.754042</td>\n",
              "    </tr>\n",
              "    <tr>\n",
              "      <th>365</th>\n",
              "      <td>10</td>\n",
              "      <td>5</td>\n",
              "      <td>entropy</td>\n",
              "      <td>0.0</td>\n",
              "      <td>0.946482</td>\n",
              "      <td>0.008586</td>\n",
              "      <td>0.753698</td>\n",
              "    </tr>\n",
              "    <tr>\n",
              "      <th>385</th>\n",
              "      <td>10</td>\n",
              "      <td>15</td>\n",
              "      <td>entropy</td>\n",
              "      <td>0.0</td>\n",
              "      <td>0.941466</td>\n",
              "      <td>0.009584</td>\n",
              "      <td>0.753010</td>\n",
              "    </tr>\n",
              "    <tr>\n",
              "      <th>455</th>\n",
              "      <td>11</td>\n",
              "      <td>15</td>\n",
              "      <td>entropy</td>\n",
              "      <td>0.0</td>\n",
              "      <td>0.941466</td>\n",
              "      <td>0.009584</td>\n",
              "      <td>0.753010</td>\n",
              "    </tr>\n",
              "    <tr>\n",
              "      <th>355</th>\n",
              "      <td>10</td>\n",
              "      <td>1</td>\n",
              "      <td>entropy</td>\n",
              "      <td>0.0</td>\n",
              "      <td>0.945891</td>\n",
              "      <td>0.006970</td>\n",
              "      <td>0.752666</td>\n",
              "    </tr>\n",
              "    <tr>\n",
              "      <th>75</th>\n",
              "      <td>6</td>\n",
              "      <td>1</td>\n",
              "      <td>entropy</td>\n",
              "      <td>0.0</td>\n",
              "      <td>0.945448</td>\n",
              "      <td>0.008991</td>\n",
              "      <td>0.751978</td>\n",
              "    </tr>\n",
              "  </tbody>\n",
              "</table>\n",
              "</div>"
            ],
            "text/plain": [
              "     max_depth  min_samples_leaf criterion  ccp_alpha  mean_cv_score  \\\n",
              "145          7                 1   entropy        0.0       0.948103   \n",
              "435         11                 5   entropy        0.0       0.946629   \n",
              "295          9                 5   entropy        0.0       0.946482   \n",
              "225          8                 5   entropy        0.0       0.947513   \n",
              "215          8                 1   entropy        0.0       0.949135   \n",
              "365         10                 5   entropy        0.0       0.946482   \n",
              "385         10                15   entropy        0.0       0.941466   \n",
              "455         11                15   entropy        0.0       0.941466   \n",
              "355         10                 1   entropy        0.0       0.945891   \n",
              "75           6                 1   entropy        0.0       0.945448   \n",
              "\n",
              "     std_cv_score  test_score  \n",
              "145      0.008196    0.759202  \n",
              "435      0.008427    0.755762  \n",
              "295      0.008225    0.755418  \n",
              "225      0.007827    0.754730  \n",
              "215      0.006654    0.754042  \n",
              "365      0.008586    0.753698  \n",
              "385      0.009584    0.753010  \n",
              "455      0.009584    0.753010  \n",
              "355      0.006970    0.752666  \n",
              "75       0.008991    0.751978  "
            ]
          },
          "execution_count": 87,
          "metadata": {},
          "output_type": "execute_result"
        }
      ],
      "source": [
        "experiment_results_df7030"
      ]
    },
    {
      "cell_type": "markdown",
      "metadata": {},
      "source": [
        "**Make new training and testing sets, by moving 60% of the instances from the original training set into the testing set. Note the accuracies on the training and the testing sets**"
      ]
    },
    {
      "cell_type": "code",
      "execution_count": 88,
      "metadata": {},
      "outputs": [],
      "source": [
        "# Splitting the training data for learning, testing and validation\n",
        "x_train4060, x_test4060, y_train4060, y_test4060 = train_test_split(x_train_all, y_train_all, test_size=0.6, random_state=42)"
      ]
    },
    {
      "cell_type": "code",
      "execution_count": 89,
      "metadata": {},
      "outputs": [],
      "source": [
        "# Normalize feature data since LDA is affected by scale\n",
        "scaler = StandardScaler()\n",
        "X_train_scaled = scaler.fit_transform(x_train4060)\n",
        "X_test_scaled = scaler.transform(x_test4060)\n",
        "# Initialize LDA and fit it to the training data\n",
        "lda = LinearDiscriminantAnalysis(n_components=None)  # selecting the maximum number of possible features using LDA = number of classes-1\n",
        "X_train_lda4060 = lda.fit_transform(X_train_scaled, y_train4060.values.ravel())\n",
        "X_test_lda4060 = lda.transform(X_test_scaled)"
      ]
    },
    {
      "cell_type": "code",
      "execution_count": 90,
      "metadata": {},
      "outputs": [],
      "source": [
        "# Expriminting the model with 40-60% splitting ratio \n",
        "experiment_results_df4060 = run_decision_tree_experiments(X_train_lda4060, y_train4060, X_test_lda4060, y_test4060)"
      ]
    },
    {
      "cell_type": "code",
      "execution_count": 91,
      "metadata": {},
      "outputs": [
        {
          "data": {
            "text/html": [
              "<div>\n",
              "<style scoped>\n",
              "    .dataframe tbody tr th:only-of-type {\n",
              "        vertical-align: middle;\n",
              "    }\n",
              "\n",
              "    .dataframe tbody tr th {\n",
              "        vertical-align: top;\n",
              "    }\n",
              "\n",
              "    .dataframe thead th {\n",
              "        text-align: right;\n",
              "    }\n",
              "</style>\n",
              "<table border=\"1\" class=\"dataframe\">\n",
              "  <thead>\n",
              "    <tr style=\"text-align: right;\">\n",
              "      <th></th>\n",
              "      <th>max_depth</th>\n",
              "      <th>min_samples_leaf</th>\n",
              "      <th>criterion</th>\n",
              "      <th>ccp_alpha</th>\n",
              "      <th>mean_cv_score</th>\n",
              "      <th>std_cv_score</th>\n",
              "      <th>test_score</th>\n",
              "    </tr>\n",
              "  </thead>\n",
              "  <tbody>\n",
              "    <tr>\n",
              "      <th>215</th>\n",
              "      <td>8</td>\n",
              "      <td>1</td>\n",
              "      <td>entropy</td>\n",
              "      <td>0.000</td>\n",
              "      <td>0.971104</td>\n",
              "      <td>0.008534</td>\n",
              "      <td>0.547472</td>\n",
              "    </tr>\n",
              "    <tr>\n",
              "      <th>425</th>\n",
              "      <td>11</td>\n",
              "      <td>1</td>\n",
              "      <td>entropy</td>\n",
              "      <td>0.000</td>\n",
              "      <td>0.972913</td>\n",
              "      <td>0.007660</td>\n",
              "      <td>0.546268</td>\n",
              "    </tr>\n",
              "    <tr>\n",
              "      <th>356</th>\n",
              "      <td>10</td>\n",
              "      <td>1</td>\n",
              "      <td>entropy</td>\n",
              "      <td>0.005</td>\n",
              "      <td>0.966206</td>\n",
              "      <td>0.010138</td>\n",
              "      <td>0.545408</td>\n",
              "    </tr>\n",
              "    <tr>\n",
              "      <th>146</th>\n",
              "      <td>7</td>\n",
              "      <td>1</td>\n",
              "      <td>entropy</td>\n",
              "      <td>0.005</td>\n",
              "      <td>0.965947</td>\n",
              "      <td>0.008834</td>\n",
              "      <td>0.545408</td>\n",
              "    </tr>\n",
              "    <tr>\n",
              "      <th>216</th>\n",
              "      <td>8</td>\n",
              "      <td>1</td>\n",
              "      <td>entropy</td>\n",
              "      <td>0.005</td>\n",
              "      <td>0.965690</td>\n",
              "      <td>0.009147</td>\n",
              "      <td>0.545408</td>\n",
              "    </tr>\n",
              "    <tr>\n",
              "      <th>155</th>\n",
              "      <td>7</td>\n",
              "      <td>5</td>\n",
              "      <td>entropy</td>\n",
              "      <td>0.000</td>\n",
              "      <td>0.968527</td>\n",
              "      <td>0.009129</td>\n",
              "      <td>0.545064</td>\n",
              "    </tr>\n",
              "    <tr>\n",
              "      <th>300</th>\n",
              "      <td>9</td>\n",
              "      <td>10</td>\n",
              "      <td>gini</td>\n",
              "      <td>0.000</td>\n",
              "      <td>0.960787</td>\n",
              "      <td>0.009051</td>\n",
              "      <td>0.544720</td>\n",
              "    </tr>\n",
              "    <tr>\n",
              "      <th>440</th>\n",
              "      <td>11</td>\n",
              "      <td>10</td>\n",
              "      <td>gini</td>\n",
              "      <td>0.000</td>\n",
              "      <td>0.960787</td>\n",
              "      <td>0.009051</td>\n",
              "      <td>0.544720</td>\n",
              "    </tr>\n",
              "    <tr>\n",
              "      <th>370</th>\n",
              "      <td>10</td>\n",
              "      <td>10</td>\n",
              "      <td>gini</td>\n",
              "      <td>0.000</td>\n",
              "      <td>0.960787</td>\n",
              "      <td>0.009051</td>\n",
              "      <td>0.544720</td>\n",
              "    </tr>\n",
              "    <tr>\n",
              "      <th>225</th>\n",
              "      <td>8</td>\n",
              "      <td>5</td>\n",
              "      <td>entropy</td>\n",
              "      <td>0.000</td>\n",
              "      <td>0.968012</td>\n",
              "      <td>0.010380</td>\n",
              "      <td>0.544548</td>\n",
              "    </tr>\n",
              "  </tbody>\n",
              "</table>\n",
              "</div>"
            ],
            "text/plain": [
              "     max_depth  min_samples_leaf criterion  ccp_alpha  mean_cv_score  \\\n",
              "215          8                 1   entropy      0.000       0.971104   \n",
              "425         11                 1   entropy      0.000       0.972913   \n",
              "356         10                 1   entropy      0.005       0.966206   \n",
              "146          7                 1   entropy      0.005       0.965947   \n",
              "216          8                 1   entropy      0.005       0.965690   \n",
              "155          7                 5   entropy      0.000       0.968527   \n",
              "300          9                10      gini      0.000       0.960787   \n",
              "440         11                10      gini      0.000       0.960787   \n",
              "370         10                10      gini      0.000       0.960787   \n",
              "225          8                 5   entropy      0.000       0.968012   \n",
              "\n",
              "     std_cv_score  test_score  \n",
              "215      0.008534    0.547472  \n",
              "425      0.007660    0.546268  \n",
              "356      0.010138    0.545408  \n",
              "146      0.008834    0.545408  \n",
              "216      0.009147    0.545408  \n",
              "155      0.009129    0.545064  \n",
              "300      0.009051    0.544720  \n",
              "440      0.009051    0.544720  \n",
              "370      0.009051    0.544720  \n",
              "225      0.010380    0.544548  "
            ]
          },
          "execution_count": 91,
          "metadata": {},
          "output_type": "execute_result"
        }
      ],
      "source": [
        "experiment_results_df4060"
      ]
    },
    {
      "cell_type": "markdown",
      "metadata": {},
      "source": [
        "**Analyse your results from the point of view of the problem of classifier over-fitting. Do you notice the effects of over-fitting? How? Note your conclusions in the Jupyter notebook.**"
      ]
    },
    {
      "cell_type": "markdown",
      "metadata": {},
      "source": [
        "It's noticeable that when the size of the training dataset is reduced from 70% to 40%, there is an increase in the cross-validation score but a decrease in the test score. **This is a strong indicator that the model is overfitting**, as it performs better on the smaller training set and validation folds but worse on the independent test data."
      ]
    },
    {
      "cell_type": "code",
      "execution_count": 60,
      "metadata": {
        "colab": {
          "base_uri": "https://localhost:8080/",
          "height": 74
        },
        "id": "_GMeqHCJmOh0",
        "outputId": "87a61f0b-76c3-4fef-8abd-50eaab8340b0"
      },
      "outputs": [
        {
          "data": {
            "text/plain": [
              "DecisionTreeClassifier(max_depth=8, random_state=42)"
            ]
          },
          "execution_count": 60,
          "metadata": {},
          "output_type": "execute_result"
        }
      ],
      "source": [
        "clf = DecisionTreeClassifier(max_depth=8, random_state=42)\n",
        "clf.fit(X_train_lda, y_train.values.ravel())"
      ]
    },
    {
      "cell_type": "code",
      "execution_count": 61,
      "metadata": {
        "colab": {
          "base_uri": "https://localhost:8080/",
          "height": 663
        },
        "id": "JfEz8IPHmTN8",
        "outputId": "26bd7b50-ac13-4735-df08-b792b98d566a"
      },
      "outputs": [
        {
          "data": {
            "image/png": "[encoded data removed]",
            "text/plain": [
              "<Figure size 1440x720 with 1 Axes>"
            ]
          },
          "metadata": {
            "needs_background": "light"
          },
          "output_type": "display_data"
        }
      ],
      "source": [
        "# Plot the top of the decision tree\n",
        "plt.figure(figsize=(20, 10))  # Set the figure size as large as needed\n",
        "plot_tree(\n",
        "    clf,\n",
        "    filled=True,\n",
        "    rounded=True,\n",
        "    class_names=['0', '1', '2','3', '4', '5','6', '7', '8','9'],\n",
        "    max_depth= 1 # Only plot the top 3 levels for clarity\n",
        ")\n",
        "plt.show()\n"
      ]
    },
    {
      "cell_type": "code",
      "execution_count": 62,
      "metadata": {
        "id": "OBZC9TgYoi-n"
      },
      "outputs": [],
      "source": [
        "# Normalize feature data since LDA is affected by scale\n",
        "scaler = StandardScaler()\n",
        "X_train_scaled = scaler.fit_transform(x_train_all)\n",
        "X_test_scaled = scaler.transform(x_test_all)\n",
        "# Initialize LDA and fit it to the training data\n",
        "lda = LinearDiscriminantAnalysis(n_components=None)  # selecting the maximum number of possible features using LDA = number of classes-1\n",
        "X_train_lda = lda.fit_transform(X_train_scaled, y_train_all.values.ravel())\n",
        "X_test_lda = lda.transform(X_test_scaled)"
      ]
    },
    {
      "cell_type": "code",
      "execution_count": 63,
      "metadata": {
        "colab": {
          "base_uri": "https://localhost:8080/",
          "height": 74
        },
        "id": "GMA3N6p_3G_j",
        "outputId": "22f15394-4c56-4d64-db95-4e651e40e678"
      },
      "outputs": [
        {
          "data": {
            "text/plain": [
              "DecisionTreeClassifier(max_depth=11, random_state=42)"
            ]
          },
          "execution_count": 63,
          "metadata": {},
          "output_type": "execute_result"
        }
      ],
      "source": [
        "clf = DecisionTreeClassifier(max_depth=11, random_state=42)\n",
        "clf.fit(X_train_lda, y_train_all.values.ravel())"
      ]
    },
    {
      "cell_type": "code",
      "execution_count": 64,
      "metadata": {
        "colab": {
          "base_uri": "https://localhost:8080/",
          "height": 663
        },
        "id": "k9RmVtd78mC1",
        "outputId": "87142925-1252-471d-fb16-3bd06a6c15a6"
      },
      "outputs": [
        {
          "data": {
            "image/png": "[encoded data removed]",
            "text/plain": [
              "<Figure size 1440x720 with 1 Axes>"
            ]
          },
          "metadata": {
            "needs_background": "light"
          },
          "output_type": "display_data"
        }
      ],
      "source": [
        "# Plot the top of the decision tree\n",
        "plt.figure(figsize=(20, 10))  # Set the figure size as large as needed\n",
        "plot_tree(\n",
        "    clf,\n",
        "    filled=True,\n",
        "    rounded=True,\n",
        "    class_names=['0', '1', '2','3', '4', '5','6', '7', '8','9'],\n",
        "    max_depth= 1 # Only plot the top 3 levels for clarity\n",
        ")\n",
        "plt.show()\n"
      ]
    },
    {
      "cell_type": "code",
      "execution_count": null,
      "metadata": {
        "id": "0I0veQrzNl6r"
      },
      "outputs": [],
      "source": []
    }
  ],
  "metadata": {
    "colab": {
      "provenance": []
    },
    "kernelspec": {
      "display_name": "Python 3",
      "name": "python3"
    },
    "language_info": {
      "codemirror_mode": {
        "name": "ipython",
        "version": 3
      },
      "file_extension": ".py",
      "mimetype": "text/x-python",
      "name": "python",
      "nbconvert_exporter": "python",
      "pygments_lexer": "ipython3",
      "version": "3.9.7"
    }
  },
  "nbformat": 4,
  "nbformat_minor": 0
}
