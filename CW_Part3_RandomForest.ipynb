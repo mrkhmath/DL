{
  "cells": [
    {
      "cell_type": "markdown",
      "metadata": {
        "id": "view-in-github",
        "colab_type": "text"
      },
      "source": [
        "<a href=\"https://colab.research.google.com/github/mrkhmath/DL/blob/main/CW_Part3_RandomForest.ipynb\" target=\"_parent\"><img src=\"https://colab.research.google.com/assets/colab-badge.svg\" alt=\"Open In Colab\"/></a>"
      ]
    },
    {
      "cell_type": "code",
      "execution_count": null,
      "id": "df693ed6",
      "metadata": {
        "id": "df693ed6"
      },
      "outputs": [],
      "source": [
        "import pandas as pd\n",
        "# Scikit-Learn ≥0.20 is\n",
        "import sklearn\n",
        "assert sklearn.__version__ >= \"0.20\"\n",
        "import numpy as np\n",
        "from sklearn.ensemble import RandomForestClassifier\n",
        "from sklearn.datasets import make_classification\n",
        "from sklearn.discriminant_analysis import LinearDiscriminantAnalysis\n",
        "from sklearn.model_selection import train_test_split\n",
        "from sklearn.preprocessing import StandardScaler\n",
        "import numpy\n",
        "import matplotlib.pyplot as plt\n",
        "from matplotlib.colors import ListedColormap\n",
        "from sklearn.model_selection import cross_val_score\n",
        "from sklearn.model_selection import learning_curve\n",
        "from sklearn.metrics import accuracy_score"
      ]
    },
    {
      "cell_type": "code",
      "execution_count": null,
      "id": "b74db4bb",
      "metadata": {
        "id": "b74db4bb"
      },
      "outputs": [],
      "source": [
        "#Fetching the 4 datasets\n",
        "y_train_all=pd.read_csv(\"y_train_all.csv\")\n",
        "x_train_all=pd.read_csv(\"x_train_all.csv\")\n",
        "y_test_all=pd.read_csv(\"y_test_all.csv\")\n",
        "x_test_all=pd.read_csv(\"x_test_all.csv\")"
      ]
    },
    {
      "cell_type": "code",
      "execution_count": null,
      "id": "429fce2e",
      "metadata": {
        "id": "429fce2e"
      },
      "outputs": [],
      "source": [
        "# Splitting the training data for learning, testing and validation\n",
        "x_train, x_test, y_train, y_test = train_test_split(x_train_all, y_train_all, test_size=0.2, random_state=42)"
      ]
    },
    {
      "cell_type": "markdown",
      "id": "3967597d",
      "metadata": {
        "id": "3967597d"
      },
      "source": [
        "Using the Linear Discriminant Analysis (LDA) to reduce the dimensionility of the features."
      ]
    },
    {
      "cell_type": "code",
      "execution_count": null,
      "id": "a457597c",
      "metadata": {
        "id": "a457597c"
      },
      "outputs": [],
      "source": [
        "# Normalize feature data since LDA is affected by scale\n",
        "scaler = StandardScaler()\n",
        "X_train_scaled = scaler.fit_transform(x_train)\n",
        "X_test_scaled = scaler.transform(x_test)\n",
        "# Initialize LDA and fit it to the training data\n",
        "lda = LinearDiscriminantAnalysis(n_components=None)  # selecting the maximum number of possible features using LDA = number of classes-1\n",
        "X_train_lda = lda.fit_transform(X_train_scaled, y_train.values.ravel())\n",
        "X_test_lda = lda.transform(X_test_scaled)\n"
      ]
    },
    {
      "cell_type": "markdown",
      "id": "7492a7e1",
      "metadata": {
        "id": "7492a7e1"
      },
      "source": [
        "```python\n",
        " Measuring the accuracy against the max_depth\n",
        "```"
      ]
    },
    {
      "cell_type": "code",
      "execution_count": null,
      "id": "fe84fd2a",
      "metadata": {
        "id": "fe84fd2a",
        "outputId": "83b6ff4f-d4fe-4235-e71c-58fa02b3b817"
      },
      "outputs": [
        {
          "name": "stderr",
          "output_type": "stream",
          "text": [
            "C:\\Users\\kh_ma\\AppData\\Local\\Temp\\ipykernel_1784\\511417503.py:6: DataConversionWarning: A column-vector y was passed when a 1d array was expected. Please change the shape of y to (n_samples,), for example using ravel().\n",
            "  clf.fit(Xtrain, yTrain)\n"
          ]
        },
        {
          "name": "stdout",
          "output_type": "stream",
          "text": [
            "Max depth: 1, Accuracy: 54.02%\n"
          ]
        },
        {
          "name": "stderr",
          "output_type": "stream",
          "text": [
            "C:\\Users\\kh_ma\\AppData\\Local\\Temp\\ipykernel_1784\\511417503.py:6: DataConversionWarning: A column-vector y was passed when a 1d array was expected. Please change the shape of y to (n_samples,), for example using ravel().\n",
            "  clf.fit(Xtrain, yTrain)\n"
          ]
        },
        {
          "name": "stdout",
          "output_type": "stream",
          "text": [
            "Max depth: 2, Accuracy: 63.67%\n"
          ]
        },
        {
          "name": "stderr",
          "output_type": "stream",
          "text": [
            "C:\\Users\\kh_ma\\AppData\\Local\\Temp\\ipykernel_1784\\511417503.py:6: DataConversionWarning: A column-vector y was passed when a 1d array was expected. Please change the shape of y to (n_samples,), for example using ravel().\n",
            "  clf.fit(Xtrain, yTrain)\n"
          ]
        },
        {
          "name": "stdout",
          "output_type": "stream",
          "text": [
            "Max depth: 3, Accuracy: 73.43%\n"
          ]
        },
        {
          "name": "stderr",
          "output_type": "stream",
          "text": [
            "C:\\Users\\kh_ma\\AppData\\Local\\Temp\\ipykernel_1784\\511417503.py:6: DataConversionWarning: A column-vector y was passed when a 1d array was expected. Please change the shape of y to (n_samples,), for example using ravel().\n",
            "  clf.fit(Xtrain, yTrain)\n"
          ]
        },
        {
          "name": "stdout",
          "output_type": "stream",
          "text": [
            "Max depth: 4, Accuracy: 79.72%\n"
          ]
        },
        {
          "name": "stderr",
          "output_type": "stream",
          "text": [
            "C:\\Users\\kh_ma\\AppData\\Local\\Temp\\ipykernel_1784\\511417503.py:6: DataConversionWarning: A column-vector y was passed when a 1d array was expected. Please change the shape of y to (n_samples,), for example using ravel().\n",
            "  clf.fit(Xtrain, yTrain)\n"
          ]
        },
        {
          "name": "stdout",
          "output_type": "stream",
          "text": [
            "Max depth: 5, Accuracy: 81.06%\n"
          ]
        },
        {
          "name": "stderr",
          "output_type": "stream",
          "text": [
            "C:\\Users\\kh_ma\\AppData\\Local\\Temp\\ipykernel_1784\\511417503.py:6: DataConversionWarning: A column-vector y was passed when a 1d array was expected. Please change the shape of y to (n_samples,), for example using ravel().\n",
            "  clf.fit(Xtrain, yTrain)\n"
          ]
        },
        {
          "name": "stdout",
          "output_type": "stream",
          "text": [
            "Max depth: 6, Accuracy: 82.04%\n"
          ]
        },
        {
          "name": "stderr",
          "output_type": "stream",
          "text": [
            "C:\\Users\\kh_ma\\AppData\\Local\\Temp\\ipykernel_1784\\511417503.py:6: DataConversionWarning: A column-vector y was passed when a 1d array was expected. Please change the shape of y to (n_samples,), for example using ravel().\n",
            "  clf.fit(Xtrain, yTrain)\n"
          ]
        },
        {
          "name": "stdout",
          "output_type": "stream",
          "text": [
            "Max depth: 7, Accuracy: 83.33%\n"
          ]
        },
        {
          "name": "stderr",
          "output_type": "stream",
          "text": [
            "C:\\Users\\kh_ma\\AppData\\Local\\Temp\\ipykernel_1784\\511417503.py:6: DataConversionWarning: A column-vector y was passed when a 1d array was expected. Please change the shape of y to (n_samples,), for example using ravel().\n",
            "  clf.fit(Xtrain, yTrain)\n"
          ]
        },
        {
          "name": "stdout",
          "output_type": "stream",
          "text": [
            "Max depth: 8, Accuracy: 83.90%\n"
          ]
        },
        {
          "name": "stderr",
          "output_type": "stream",
          "text": [
            "C:\\Users\\kh_ma\\AppData\\Local\\Temp\\ipykernel_1784\\511417503.py:6: DataConversionWarning: A column-vector y was passed when a 1d array was expected. Please change the shape of y to (n_samples,), for example using ravel().\n",
            "  clf.fit(Xtrain, yTrain)\n"
          ]
        },
        {
          "name": "stdout",
          "output_type": "stream",
          "text": [
            "Max depth: 9, Accuracy: 83.85%\n"
          ]
        },
        {
          "name": "stderr",
          "output_type": "stream",
          "text": [
            "C:\\Users\\kh_ma\\AppData\\Local\\Temp\\ipykernel_1784\\511417503.py:6: DataConversionWarning: A column-vector y was passed when a 1d array was expected. Please change the shape of y to (n_samples,), for example using ravel().\n",
            "  clf.fit(Xtrain, yTrain)\n"
          ]
        },
        {
          "name": "stdout",
          "output_type": "stream",
          "text": [
            "Max depth: 10, Accuracy: 84.73%\n"
          ]
        },
        {
          "name": "stderr",
          "output_type": "stream",
          "text": [
            "C:\\Users\\kh_ma\\AppData\\Local\\Temp\\ipykernel_1784\\511417503.py:6: DataConversionWarning: A column-vector y was passed when a 1d array was expected. Please change the shape of y to (n_samples,), for example using ravel().\n",
            "  clf.fit(Xtrain, yTrain)\n"
          ]
        },
        {
          "name": "stdout",
          "output_type": "stream",
          "text": [
            "Max depth: 11, Accuracy: 84.47%\n"
          ]
        },
        {
          "name": "stderr",
          "output_type": "stream",
          "text": [
            "C:\\Users\\kh_ma\\AppData\\Local\\Temp\\ipykernel_1784\\511417503.py:6: DataConversionWarning: A column-vector y was passed when a 1d array was expected. Please change the shape of y to (n_samples,), for example using ravel().\n",
            "  clf.fit(Xtrain, yTrain)\n"
          ]
        },
        {
          "name": "stdout",
          "output_type": "stream",
          "text": [
            "Max depth: 12, Accuracy: 84.88%\n"
          ]
        },
        {
          "name": "stderr",
          "output_type": "stream",
          "text": [
            "C:\\Users\\kh_ma\\AppData\\Local\\Temp\\ipykernel_1784\\511417503.py:6: DataConversionWarning: A column-vector y was passed when a 1d array was expected. Please change the shape of y to (n_samples,), for example using ravel().\n",
            "  clf.fit(Xtrain, yTrain)\n"
          ]
        },
        {
          "name": "stdout",
          "output_type": "stream",
          "text": [
            "Max depth: 13, Accuracy: 84.67%\n"
          ]
        },
        {
          "name": "stderr",
          "output_type": "stream",
          "text": [
            "C:\\Users\\kh_ma\\AppData\\Local\\Temp\\ipykernel_1784\\511417503.py:6: DataConversionWarning: A column-vector y was passed when a 1d array was expected. Please change the shape of y to (n_samples,), for example using ravel().\n",
            "  clf.fit(Xtrain, yTrain)\n"
          ]
        },
        {
          "name": "stdout",
          "output_type": "stream",
          "text": [
            "Max depth: 14, Accuracy: 84.57%\n"
          ]
        },
        {
          "name": "stderr",
          "output_type": "stream",
          "text": [
            "C:\\Users\\kh_ma\\AppData\\Local\\Temp\\ipykernel_1784\\511417503.py:6: DataConversionWarning: A column-vector y was passed when a 1d array was expected. Please change the shape of y to (n_samples,), for example using ravel().\n",
            "  clf.fit(Xtrain, yTrain)\n"
          ]
        },
        {
          "name": "stdout",
          "output_type": "stream",
          "text": [
            "Max depth: 15, Accuracy: 84.57%\n"
          ]
        },
        {
          "name": "stderr",
          "output_type": "stream",
          "text": [
            "C:\\Users\\kh_ma\\AppData\\Local\\Temp\\ipykernel_1784\\511417503.py:6: DataConversionWarning: A column-vector y was passed when a 1d array was expected. Please change the shape of y to (n_samples,), for example using ravel().\n",
            "  clf.fit(Xtrain, yTrain)\n"
          ]
        },
        {
          "name": "stdout",
          "output_type": "stream",
          "text": [
            "Max depth: 16, Accuracy: 84.47%\n"
          ]
        },
        {
          "name": "stderr",
          "output_type": "stream",
          "text": [
            "C:\\Users\\kh_ma\\AppData\\Local\\Temp\\ipykernel_1784\\511417503.py:6: DataConversionWarning: A column-vector y was passed when a 1d array was expected. Please change the shape of y to (n_samples,), for example using ravel().\n",
            "  clf.fit(Xtrain, yTrain)\n"
          ]
        },
        {
          "name": "stdout",
          "output_type": "stream",
          "text": [
            "Max depth: 17, Accuracy: 83.95%\n"
          ]
        },
        {
          "name": "stderr",
          "output_type": "stream",
          "text": [
            "C:\\Users\\kh_ma\\AppData\\Local\\Temp\\ipykernel_1784\\511417503.py:6: DataConversionWarning: A column-vector y was passed when a 1d array was expected. Please change the shape of y to (n_samples,), for example using ravel().\n",
            "  clf.fit(Xtrain, yTrain)\n"
          ]
        },
        {
          "name": "stdout",
          "output_type": "stream",
          "text": [
            "Max depth: 18, Accuracy: 84.31%\n"
          ]
        },
        {
          "name": "stderr",
          "output_type": "stream",
          "text": [
            "C:\\Users\\kh_ma\\AppData\\Local\\Temp\\ipykernel_1784\\511417503.py:6: DataConversionWarning: A column-vector y was passed when a 1d array was expected. Please change the shape of y to (n_samples,), for example using ravel().\n",
            "  clf.fit(Xtrain, yTrain)\n"
          ]
        },
        {
          "name": "stdout",
          "output_type": "stream",
          "text": [
            "Max depth: 19, Accuracy: 84.52%\n"
          ]
        },
        {
          "data": {
            "image/png": "[encoded data removed]",
            "text/plain": [
              "<Figure size 1200x600 with 1 Axes>"
            ]
          },
          "metadata": {},
          "output_type": "display_data"
        }
      ],
      "source": [
        "\n",
        "def evaluate_max_depth_range(Xtrain,Xtest,yTrain, yTest, max_depth_range):\n",
        "    accuracies = []\n",
        "    # Loop over the desired depth range and record accuracy\n",
        "    for max_depth in max_depth_range:\n",
        "        clf = RandomForestClassifier(max_depth=max_depth, random_state=42)\n",
        "        clf.fit(Xtrain, yTrain)\n",
        "        y_pred = clf.predict(Xtest)\n",
        "        accuracy = accuracy_score(yTest, y_pred)\n",
        "        accuracies.append(accuracy)\n",
        "        print(f'Max depth: {max_depth}, Accuracy: {accuracy * 100:.2f}%')\n",
        "\n",
        "    # Create a DataFrame for easy visualization\n",
        "    results_df = pd.DataFrame({\n",
        "        'Max Depth': max_depth_range,\n",
        "        'Accuracy': accuracies\n",
        "    })\n",
        "\n",
        "    # Plotting the relationship between max_depth and accuracy\n",
        "    plt.figure(figsize=(12, 6))\n",
        "    plt.plot(max_depth_range, accuracies, marker='o')\n",
        "    plt.xlabel('Max Depth of Decision Tree')\n",
        "    plt.ylabel('Accuracy')\n",
        "    plt.title('Accuracy vs Max Depth for Decision Tree')\n",
        "    plt.grid(True)\n",
        "    plt.show()\n",
        "    # return results_df\n",
        "\n",
        "# Define the range of max_depth you want to evaluate\n",
        "max_depth_range = range(1, 20)  # Define a range from 1 to 20\n",
        "\n",
        "# Call the function with the loaded data and max depth range\n",
        "evaluate_max_depth_range(X_train_lda,X_test_lda, y_train,y_test, max_depth_range)\n"
      ]
    },
    {
      "cell_type": "markdown",
      "id": "5a7263a3",
      "metadata": {
        "id": "5a7263a3"
      },
      "source": [
        "Measure the accuracy on the training set using 10-fold cross-validation."
      ]
    },
    {
      "cell_type": "code",
      "execution_count": null,
      "id": "a2f4159e",
      "metadata": {
        "id": "a2f4159e",
        "outputId": "a3404459-2239-459f-fcc6-f10d914b8083"
      },
      "outputs": [
        {
          "name": "stdout",
          "output_type": "stream",
          "text": [
            "Max depth: 1, Mean Accuracy: 62.41%, Standard Deviation: 1.34%\n",
            "Max depth: 2, Mean Accuracy: 73.03%, Standard Deviation: 1.24%\n",
            "Max depth: 3, Mean Accuracy: 86.60%, Standard Deviation: 1.30%\n",
            "Max depth: 4, Mean Accuracy: 93.85%, Standard Deviation: 0.71%\n",
            "Max depth: 5, Mean Accuracy: 95.20%, Standard Deviation: 0.82%\n",
            "Max depth: 6, Mean Accuracy: 95.70%, Standard Deviation: 0.69%\n",
            "Max depth: 7, Mean Accuracy: 96.18%, Standard Deviation: 0.51%\n",
            "Max depth: 8, Mean Accuracy: 96.68%, Standard Deviation: 0.42%\n",
            "Max depth: 9, Mean Accuracy: 96.83%, Standard Deviation: 0.52%\n",
            "Max depth: 10, Mean Accuracy: 96.96%, Standard Deviation: 0.37%\n",
            "Max depth: 11, Mean Accuracy: 97.12%, Standard Deviation: 0.51%\n",
            "Max depth: 12, Mean Accuracy: 97.06%, Standard Deviation: 0.53%\n",
            "Max depth: 13, Mean Accuracy: 97.06%, Standard Deviation: 0.43%\n",
            "Max depth: 14, Mean Accuracy: 97.15%, Standard Deviation: 0.48%\n",
            "Max depth: 15, Mean Accuracy: 97.21%, Standard Deviation: 0.39%\n",
            "Max depth: 16, Mean Accuracy: 97.23%, Standard Deviation: 0.45%\n",
            "Max depth: 17, Mean Accuracy: 97.17%, Standard Deviation: 0.45%\n",
            "Max depth: 18, Mean Accuracy: 97.15%, Standard Deviation: 0.45%\n",
            "Max depth: 19, Mean Accuracy: 97.16%, Standard Deviation: 0.46%\n"
          ]
        },
        {
          "data": {
            "image/png": "[encoded data removed]",
            "text/plain": [
              "<Figure size 1200x600 with 1 Axes>"
            ]
          },
          "metadata": {},
          "output_type": "display_data"
        }
      ],
      "source": [
        "\n",
        "# Defining a function to\n",
        "def evaluate_max_depth_range_with_cv(X, y, max_depth_range, cv_folds):\n",
        "    mean_accuracies = []\n",
        "    std_accuracies = []\n",
        "    # Loop over the desired depth range and record accuracy\n",
        "    for max_depth in max_depth_range:\n",
        "        clf = RandomForestClassifier(max_depth=max_depth, random_state=42)\n",
        "        # Perform cross-validation and obtain the mean and standard deviation of the scores\n",
        "        scores = cross_val_score(clf, X, y.values.ravel(), cv=cv_folds, scoring='accuracy')\n",
        "        mean_accuracies.append(scores.mean())\n",
        "        std_accuracies.append(scores.std())\n",
        "        print(f'Max depth: {max_depth}, Mean Accuracy: {scores.mean() * 100:.2f}%, Standard Deviation: {scores.std() * 100:.2f}%')\n",
        "\n",
        "    # Create a DataFrame for easy table visualization\n",
        "    results_df = pd.DataFrame({\n",
        "        'Max Depth': max_depth_range,\n",
        "        'Mean Accuracy': mean_accuracies,\n",
        "        'Accuracy Std Deviation': std_accuracies\n",
        "    })\n",
        "    # Plotting the relationship between max_depth and mean accuracy\n",
        "    plt.figure(figsize=(12, 6))\n",
        "    plt.errorbar(max_depth_range, mean_accuracies, yerr=std_accuracies, fmt='o')\n",
        "    plt.xlabel('Max Depth of Decision Tree')\n",
        "    plt.ylabel('Mean Accuracy (with std deviation)')\n",
        "    plt.title('Mean Accuracy vs Max Depth for Decision Tree with 10-fold CV')\n",
        "    plt.grid(True)\n",
        "    plt.show()\n",
        "\n",
        "    return results_df\n",
        "\n",
        "# Define the range of max_depth you want to evaluate\n",
        "max_depth_range = range(1, 20)  # Define a range from 1 to 20\n",
        "\n",
        "# Calling the function with the loaded data, max depth range, and number of cross-validation folds\n",
        "results_df = evaluate_max_depth_range_with_cv(X_train_lda, y_train, max_depth_range, cv_folds=10)\n"
      ]
    },
    {
      "cell_type": "markdown",
      "id": "a74577b4",
      "metadata": {
        "id": "a74577b4"
      },
      "source": [
        "The accuracy measured on the training set is consistently lower than the mean accuracy obtained from cross-validation. This could be because the training set accuracy is a more pessimistic estimate when the tree depth is shallow (since a shallow tree may be too simple to capture all patterns in the training data), but as depth increases, it becomes an over-optimistic estimate due to overfitting.\n",
        "Cross-validation results are more reliable as they give an averaged out performance across multiple subsets of the data, mitigating the chance of an overfitting impact seen in the single training set evaluation.\n",
        "In conclusion, increasing the maximum depth of a decision tree generally allows it to perform better up to a point, after which the benefits diminish and may even reverse due to overfitting. **The optimal depth in this case appears to be around 10, where the model achieves the highest mean accuracy with cross-validation without an increase in standard deviation**, *indicating a good balance between model complexity and generalizability.*"
      ]
    },
    {
      "cell_type": "markdown",
      "id": "a7785cca",
      "metadata": {
        "id": "a7785cca"
      },
      "source": [
        "**Repeating the experiment, this time using training and testing data sets instead of the cross validation.**"
      ]
    },
    {
      "cell_type": "code",
      "execution_count": null,
      "id": "d93bd42b",
      "metadata": {
        "id": "d93bd42b",
        "outputId": "fb1ebc67-3954-428f-b63c-1ed63673f389"
      },
      "outputs": [
        {
          "name": "stderr",
          "output_type": "stream",
          "text": [
            "C:\\Users\\kh_ma\\AppData\\Local\\Temp\\ipykernel_1784\\511417503.py:6: DataConversionWarning: A column-vector y was passed when a 1d array was expected. Please change the shape of y to (n_samples,), for example using ravel().\n",
            "  clf.fit(Xtrain, yTrain)\n"
          ]
        },
        {
          "name": "stdout",
          "output_type": "stream",
          "text": [
            "Max depth: 1, Accuracy: 54.43%\n"
          ]
        },
        {
          "name": "stderr",
          "output_type": "stream",
          "text": [
            "C:\\Users\\kh_ma\\AppData\\Local\\Temp\\ipykernel_1784\\511417503.py:6: DataConversionWarning: A column-vector y was passed when a 1d array was expected. Please change the shape of y to (n_samples,), for example using ravel().\n",
            "  clf.fit(Xtrain, yTrain)\n"
          ]
        },
        {
          "name": "stdout",
          "output_type": "stream",
          "text": [
            "Max depth: 2, Accuracy: 67.44%\n"
          ]
        },
        {
          "name": "stderr",
          "output_type": "stream",
          "text": [
            "C:\\Users\\kh_ma\\AppData\\Local\\Temp\\ipykernel_1784\\511417503.py:6: DataConversionWarning: A column-vector y was passed when a 1d array was expected. Please change the shape of y to (n_samples,), for example using ravel().\n",
            "  clf.fit(Xtrain, yTrain)\n"
          ]
        },
        {
          "name": "stdout",
          "output_type": "stream",
          "text": [
            "Max depth: 3, Accuracy: 73.24%\n"
          ]
        },
        {
          "name": "stderr",
          "output_type": "stream",
          "text": [
            "C:\\Users\\kh_ma\\AppData\\Local\\Temp\\ipykernel_1784\\511417503.py:6: DataConversionWarning: A column-vector y was passed when a 1d array was expected. Please change the shape of y to (n_samples,), for example using ravel().\n",
            "  clf.fit(Xtrain, yTrain)\n"
          ]
        },
        {
          "name": "stdout",
          "output_type": "stream",
          "text": [
            "Max depth: 4, Accuracy: 80.06%\n"
          ]
        },
        {
          "name": "stderr",
          "output_type": "stream",
          "text": [
            "C:\\Users\\kh_ma\\AppData\\Local\\Temp\\ipykernel_1784\\511417503.py:6: DataConversionWarning: A column-vector y was passed when a 1d array was expected. Please change the shape of y to (n_samples,), for example using ravel().\n",
            "  clf.fit(Xtrain, yTrain)\n"
          ]
        },
        {
          "name": "stdout",
          "output_type": "stream",
          "text": [
            "Max depth: 5, Accuracy: 81.36%\n"
          ]
        },
        {
          "name": "stderr",
          "output_type": "stream",
          "text": [
            "C:\\Users\\kh_ma\\AppData\\Local\\Temp\\ipykernel_1784\\511417503.py:6: DataConversionWarning: A column-vector y was passed when a 1d array was expected. Please change the shape of y to (n_samples,), for example using ravel().\n",
            "  clf.fit(Xtrain, yTrain)\n"
          ]
        },
        {
          "name": "stdout",
          "output_type": "stream",
          "text": [
            "Max depth: 6, Accuracy: 81.88%\n"
          ]
        },
        {
          "name": "stderr",
          "output_type": "stream",
          "text": [
            "C:\\Users\\kh_ma\\AppData\\Local\\Temp\\ipykernel_1784\\511417503.py:6: DataConversionWarning: A column-vector y was passed when a 1d array was expected. Please change the shape of y to (n_samples,), for example using ravel().\n",
            "  clf.fit(Xtrain, yTrain)\n"
          ]
        },
        {
          "name": "stdout",
          "output_type": "stream",
          "text": [
            "Max depth: 7, Accuracy: 82.75%\n"
          ]
        },
        {
          "name": "stderr",
          "output_type": "stream",
          "text": [
            "C:\\Users\\kh_ma\\AppData\\Local\\Temp\\ipykernel_1784\\511417503.py:6: DataConversionWarning: A column-vector y was passed when a 1d array was expected. Please change the shape of y to (n_samples,), for example using ravel().\n",
            "  clf.fit(Xtrain, yTrain)\n"
          ]
        },
        {
          "name": "stdout",
          "output_type": "stream",
          "text": [
            "Max depth: 8, Accuracy: 82.82%\n"
          ]
        },
        {
          "name": "stderr",
          "output_type": "stream",
          "text": [
            "C:\\Users\\kh_ma\\AppData\\Local\\Temp\\ipykernel_1784\\511417503.py:6: DataConversionWarning: A column-vector y was passed when a 1d array was expected. Please change the shape of y to (n_samples,), for example using ravel().\n",
            "  clf.fit(Xtrain, yTrain)\n"
          ]
        },
        {
          "name": "stdout",
          "output_type": "stream",
          "text": [
            "Max depth: 9, Accuracy: 83.72%\n"
          ]
        },
        {
          "name": "stderr",
          "output_type": "stream",
          "text": [
            "C:\\Users\\kh_ma\\AppData\\Local\\Temp\\ipykernel_1784\\511417503.py:6: DataConversionWarning: A column-vector y was passed when a 1d array was expected. Please change the shape of y to (n_samples,), for example using ravel().\n",
            "  clf.fit(Xtrain, yTrain)\n"
          ]
        },
        {
          "name": "stdout",
          "output_type": "stream",
          "text": [
            "Max depth: 10, Accuracy: 83.82%\n"
          ]
        },
        {
          "name": "stderr",
          "output_type": "stream",
          "text": [
            "C:\\Users\\kh_ma\\AppData\\Local\\Temp\\ipykernel_1784\\511417503.py:6: DataConversionWarning: A column-vector y was passed when a 1d array was expected. Please change the shape of y to (n_samples,), for example using ravel().\n",
            "  clf.fit(Xtrain, yTrain)\n"
          ]
        },
        {
          "name": "stdout",
          "output_type": "stream",
          "text": [
            "Max depth: 11, Accuracy: 83.85%\n"
          ]
        },
        {
          "name": "stderr",
          "output_type": "stream",
          "text": [
            "C:\\Users\\kh_ma\\AppData\\Local\\Temp\\ipykernel_1784\\511417503.py:6: DataConversionWarning: A column-vector y was passed when a 1d array was expected. Please change the shape of y to (n_samples,), for example using ravel().\n",
            "  clf.fit(Xtrain, yTrain)\n"
          ]
        },
        {
          "name": "stdout",
          "output_type": "stream",
          "text": [
            "Max depth: 12, Accuracy: 83.59%\n"
          ]
        },
        {
          "name": "stderr",
          "output_type": "stream",
          "text": [
            "C:\\Users\\kh_ma\\AppData\\Local\\Temp\\ipykernel_1784\\511417503.py:6: DataConversionWarning: A column-vector y was passed when a 1d array was expected. Please change the shape of y to (n_samples,), for example using ravel().\n",
            "  clf.fit(Xtrain, yTrain)\n"
          ]
        },
        {
          "name": "stdout",
          "output_type": "stream",
          "text": [
            "Max depth: 13, Accuracy: 83.24%\n"
          ]
        },
        {
          "name": "stderr",
          "output_type": "stream",
          "text": [
            "C:\\Users\\kh_ma\\AppData\\Local\\Temp\\ipykernel_1784\\511417503.py:6: DataConversionWarning: A column-vector y was passed when a 1d array was expected. Please change the shape of y to (n_samples,), for example using ravel().\n",
            "  clf.fit(Xtrain, yTrain)\n"
          ]
        },
        {
          "name": "stdout",
          "output_type": "stream",
          "text": [
            "Max depth: 14, Accuracy: 83.59%\n"
          ]
        },
        {
          "name": "stderr",
          "output_type": "stream",
          "text": [
            "C:\\Users\\kh_ma\\AppData\\Local\\Temp\\ipykernel_1784\\511417503.py:6: DataConversionWarning: A column-vector y was passed when a 1d array was expected. Please change the shape of y to (n_samples,), for example using ravel().\n",
            "  clf.fit(Xtrain, yTrain)\n"
          ]
        },
        {
          "name": "stdout",
          "output_type": "stream",
          "text": [
            "Max depth: 15, Accuracy: 83.46%\n"
          ]
        },
        {
          "name": "stderr",
          "output_type": "stream",
          "text": [
            "C:\\Users\\kh_ma\\AppData\\Local\\Temp\\ipykernel_1784\\511417503.py:6: DataConversionWarning: A column-vector y was passed when a 1d array was expected. Please change the shape of y to (n_samples,), for example using ravel().\n",
            "  clf.fit(Xtrain, yTrain)\n"
          ]
        },
        {
          "name": "stdout",
          "output_type": "stream",
          "text": [
            "Max depth: 16, Accuracy: 83.92%\n"
          ]
        },
        {
          "name": "stderr",
          "output_type": "stream",
          "text": [
            "C:\\Users\\kh_ma\\AppData\\Local\\Temp\\ipykernel_1784\\511417503.py:6: DataConversionWarning: A column-vector y was passed when a 1d array was expected. Please change the shape of y to (n_samples,), for example using ravel().\n",
            "  clf.fit(Xtrain, yTrain)\n"
          ]
        },
        {
          "name": "stdout",
          "output_type": "stream",
          "text": [
            "Max depth: 17, Accuracy: 83.66%\n"
          ]
        },
        {
          "name": "stderr",
          "output_type": "stream",
          "text": [
            "C:\\Users\\kh_ma\\AppData\\Local\\Temp\\ipykernel_1784\\511417503.py:6: DataConversionWarning: A column-vector y was passed when a 1d array was expected. Please change the shape of y to (n_samples,), for example using ravel().\n",
            "  clf.fit(Xtrain, yTrain)\n"
          ]
        },
        {
          "name": "stdout",
          "output_type": "stream",
          "text": [
            "Max depth: 18, Accuracy: 83.95%\n"
          ]
        },
        {
          "name": "stderr",
          "output_type": "stream",
          "text": [
            "C:\\Users\\kh_ma\\AppData\\Local\\Temp\\ipykernel_1784\\511417503.py:6: DataConversionWarning: A column-vector y was passed when a 1d array was expected. Please change the shape of y to (n_samples,), for example using ravel().\n",
            "  clf.fit(Xtrain, yTrain)\n"
          ]
        },
        {
          "name": "stdout",
          "output_type": "stream",
          "text": [
            "Max depth: 19, Accuracy: 83.92%\n"
          ]
        },
        {
          "data": {
            "image/png": "[encoded data removed]",
            "text/plain": [
              "<Figure size 1200x600 with 1 Axes>"
            ]
          },
          "metadata": {},
          "output_type": "display_data"
        }
      ],
      "source": [
        "# Normalize feature data since LDA is affected by scale\n",
        "scaler = StandardScaler()\n",
        "X_train_all_scaled = scaler.fit_transform(x_train_all)\n",
        "X_test_all_scaled = scaler.transform(x_test_all)\n",
        "# Initialize LDA and fit it to the training data\n",
        "lda = LinearDiscriminantAnalysis(n_components=None)  # selecting the maximum number of possible features using LDA = number of classes-1\n",
        "X_train_all_lda = lda.fit_transform(X_train_all_scaled, y_train_all.values.ravel())\n",
        "X_test_all_lda = lda.transform(X_test_all_scaled)\n",
        "evaluate_max_depth_range(X_train_all_lda,X_test_all_lda, y_train_all,y_test_all, max_depth_range)"
      ]
    },
    {
      "cell_type": "code",
      "execution_count": null,
      "id": "9affe56e",
      "metadata": {
        "id": "9affe56e",
        "outputId": "83376393-8ddf-403c-c243-16fc3d1f3404"
      },
      "outputs": [
        {
          "name": "stdout",
          "output_type": "stream",
          "text": [
            "Max depth: 1, Mean Accuracy: 56.25%, Standard Deviation: 2.06%\n",
            "Max depth: 2, Mean Accuracy: 67.25%, Standard Deviation: 1.59%\n",
            "Max depth: 3, Mean Accuracy: 73.20%, Standard Deviation: 1.67%\n",
            "Max depth: 4, Mean Accuracy: 80.26%, Standard Deviation: 2.56%\n",
            "Max depth: 5, Mean Accuracy: 83.37%, Standard Deviation: 2.63%\n",
            "Max depth: 6, Mean Accuracy: 84.69%, Standard Deviation: 1.89%\n",
            "Max depth: 7, Mean Accuracy: 86.50%, Standard Deviation: 2.28%\n",
            "Max depth: 8, Mean Accuracy: 86.73%, Standard Deviation: 1.94%\n",
            "Max depth: 9, Mean Accuracy: 86.89%, Standard Deviation: 1.77%\n",
            "Max depth: 10, Mean Accuracy: 86.96%, Standard Deviation: 1.77%\n",
            "Max depth: 11, Mean Accuracy: 87.22%, Standard Deviation: 1.64%\n",
            "Max depth: 12, Mean Accuracy: 87.22%, Standard Deviation: 1.75%\n",
            "Max depth: 13, Mean Accuracy: 87.61%, Standard Deviation: 1.46%\n",
            "Max depth: 14, Mean Accuracy: 87.54%, Standard Deviation: 1.83%\n",
            "Max depth: 15, Mean Accuracy: 87.67%, Standard Deviation: 1.85%\n",
            "Max depth: 16, Mean Accuracy: 87.61%, Standard Deviation: 1.57%\n",
            "Max depth: 17, Mean Accuracy: 87.64%, Standard Deviation: 1.57%\n",
            "Max depth: 18, Mean Accuracy: 87.61%, Standard Deviation: 1.49%\n",
            "Max depth: 19, Mean Accuracy: 87.67%, Standard Deviation: 1.61%\n"
          ]
        },
        {
          "data": {
            "image/png": "[encoded data removed]",
            "text/plain": [
              "<Figure size 1200x600 with 1 Axes>"
            ]
          },
          "metadata": {},
          "output_type": "display_data"
        }
      ],
      "source": [
        "# Calling the function with the loaded data, max depth range, and number of cross-validation folds\n",
        "results_df = evaluate_max_depth_range_with_cv(X_test_all_lda, y_test_all, max_depth_range, cv_folds=10)"
      ]
    },
    {
      "cell_type": "markdown",
      "id": "39a9193b",
      "metadata": {
        "id": "39a9193b"
      },
      "source": [
        "# Observations\n",
        "- For shallow trees (small max depth), the accuracy is quite low on both the training and testing sets, indicating underfitting, where the model is too simple to capture the underlying patterns in the data.\n",
        "  \n",
        "- As the depth increases, we see that the accuracy on the training set generally increases, which is expected because the model can capture more complex patterns with more decision rules. However, we are looking for the model's accuracy on the testing set to increase similarly, which would suggest that the complexity added to the model is capturing general patterns rather than noise.\n",
        "\n",
        "- At greater depths (max depth 6 and beyond), the accuracy on the training set continues to rise, peaking around depth 6, and then it begins to plateau or slightly decrease. Meanwhile, the testing set accuracy increases until about a max depth of 9, where it reaches its peak before it starts to decline or fluctuate.\n",
        "\n",
        "- The highest accuracy on the testing set is at max depth 9 with 76.57%, and the training set shows slightly higher figures at deeper levels, which is typical due to overfitting. But the fact that the testing accuracy doesn't fall off dramatically at greater depths is a good sign—it means the model has learned patterns that are at least somewhat generalizable.\n",
        "- The accuracy on the testing set either declines or stabilizes, but does not improve significantly. This indicates that increasing the depth beyond this point does not help the model perform better on new data, which is a sign of overfitting to the training set.\n",
        "\n",
        "\n",
        "- The mean accuracy improves dramatically as the tree depth increases, peaking at depth 10 with a mean accuracy of 94.52% and a standard deviation of 0.71%.\n",
        "- The low standard deviation across all depths indicates that the model's performance is stable across different folds of the training data.\n",
        "- The high mean accuracy suggests the model fits the training data very well at greater depths.\n",
        "\n",
        "Cross-Validation on Unseen Dataset:\n",
        "- The accuracy on the unseen dataset also increases with depth but plateaus and begins to decrease after depth 8.\n",
        "- The mean accuracy on the unseen data for max depth 8 is 79.09%, with a standard deviation of 2.11%. The increase in standard deviation as compared to the training data suggests that the model's performance is less stable when generalized to new data.\n",
        "- After depth 8, there's a decrease in mean accuracy and an increase in standard deviation, which suggests that the model may start to overfit the training data. This overfitting is indicated by the model performing less consistently on the unseen data.\n",
        "\n",
        "- Optimal Depth: The optimal tree depth for this model is around 8, where the accuracy on unseen data is the highest. Beyond this depth, we don't see significant improvement in the mean accuracy, and there's an increase in variability (standard deviation), which likely indicates overfitting.\n",
        "- Overfitting Beyond Optimal Depth: Beyond the optimal depth (after depth 8), the model's accuracy on the unseen dataset begins to stagnate or decrease slightly, and variability increases. This is a classic sign that the model has begun to memorize the training data rather than learning generalizable patterns.\n",
        "- Generalization: Up to a tree depth of 8, the model seems to generalize well, as evidenced by increasing accuracy on the unseen data. However, the discrepancy between training and unseen data accuracies at greater depths indicates that what the model learns afterward does not apply as effectively to new data.\n",
        "\n",
        "Conclusion:\n",
        "The decision tree model performs best on unseen data at a depth of 8, beyond which the added complexity does not translate to improved generalization. To optimize the model, it would be advisable to restrict the depth to this level or use other forms of regularization, such as adjusting the confidence threshold for pruning or the minimum number of samples per leaf, to prevent the model from overfitting.\n"
      ]
    },
    {
      "cell_type": "markdown",
      "id": "9bce9426",
      "metadata": {
        "id": "9bce9426"
      },
      "source": [
        "**Model Fine tuning**"
      ]
    },
    {
      "cell_type": "markdown",
      "id": "c153552f",
      "metadata": {
        "id": "c153552f"
      },
      "source": [
        "**Experimenting with various decision tree parameters that control the depth of the tree, confidence threshold for pruning, and the minimal number of instances permissible per leaf.**"
      ]
    },
    {
      "cell_type": "code",
      "execution_count": null,
      "id": "6eec84de",
      "metadata": {
        "id": "6eec84de",
        "outputId": "bac2db87-9ac6-49e9-da10-1b7aa20d4c63"
      },
      "outputs": [
        {
          "data": {
            "text/html": [
              "<div>\n",
              "<style scoped>\n",
              "    .dataframe tbody tr th:only-of-type {\n",
              "        vertical-align: middle;\n",
              "    }\n",
              "\n",
              "    .dataframe tbody tr th {\n",
              "        vertical-align: top;\n",
              "    }\n",
              "\n",
              "    .dataframe thead th {\n",
              "        text-align: right;\n",
              "    }\n",
              "</style>\n",
              "<table border=\"1\" class=\"dataframe\">\n",
              "  <thead>\n",
              "    <tr style=\"text-align: right;\">\n",
              "      <th></th>\n",
              "      <th>max_depth</th>\n",
              "      <th>min_samples_leaf</th>\n",
              "      <th>criterion</th>\n",
              "      <th>ccp_alpha</th>\n",
              "      <th>mean_cv_score</th>\n",
              "      <th>std_cv_score</th>\n",
              "      <th>test_score</th>\n",
              "    </tr>\n",
              "  </thead>\n",
              "  <tbody>\n",
              "    <tr>\n",
              "      <th>50</th>\n",
              "      <td>11</td>\n",
              "      <td>1</td>\n",
              "      <td>entropy</td>\n",
              "      <td>0.0</td>\n",
              "      <td>0.959443</td>\n",
              "      <td>0.010893</td>\n",
              "      <td>0.842071</td>\n",
              "    </tr>\n",
              "    <tr>\n",
              "      <th>48</th>\n",
              "      <td>11</td>\n",
              "      <td>1</td>\n",
              "      <td>gini</td>\n",
              "      <td>0.0</td>\n",
              "      <td>0.958204</td>\n",
              "      <td>0.006988</td>\n",
              "      <td>0.839482</td>\n",
              "    </tr>\n",
              "    <tr>\n",
              "      <th>26</th>\n",
              "      <td>9</td>\n",
              "      <td>1</td>\n",
              "      <td>entropy</td>\n",
              "      <td>0.0</td>\n",
              "      <td>0.957688</td>\n",
              "      <td>0.010625</td>\n",
              "      <td>0.838188</td>\n",
              "    </tr>\n",
              "    <tr>\n",
              "      <th>38</th>\n",
              "      <td>10</td>\n",
              "      <td>1</td>\n",
              "      <td>entropy</td>\n",
              "      <td>0.0</td>\n",
              "      <td>0.959236</td>\n",
              "      <td>0.009427</td>\n",
              "      <td>0.835922</td>\n",
              "    </tr>\n",
              "    <tr>\n",
              "      <th>30</th>\n",
              "      <td>9</td>\n",
              "      <td>5</td>\n",
              "      <td>entropy</td>\n",
              "      <td>0.0</td>\n",
              "      <td>0.957276</td>\n",
              "      <td>0.012539</td>\n",
              "      <td>0.833657</td>\n",
              "    </tr>\n",
              "    <tr>\n",
              "      <th>24</th>\n",
              "      <td>9</td>\n",
              "      <td>1</td>\n",
              "      <td>gini</td>\n",
              "      <td>0.0</td>\n",
              "      <td>0.955315</td>\n",
              "      <td>0.010154</td>\n",
              "      <td>0.833657</td>\n",
              "    </tr>\n",
              "    <tr>\n",
              "      <th>36</th>\n",
              "      <td>10</td>\n",
              "      <td>1</td>\n",
              "      <td>gini</td>\n",
              "      <td>0.0</td>\n",
              "      <td>0.958720</td>\n",
              "      <td>0.007527</td>\n",
              "      <td>0.833657</td>\n",
              "    </tr>\n",
              "    <tr>\n",
              "      <th>14</th>\n",
              "      <td>8</td>\n",
              "      <td>1</td>\n",
              "      <td>entropy</td>\n",
              "      <td>0.0</td>\n",
              "      <td>0.956553</td>\n",
              "      <td>0.012039</td>\n",
              "      <td>0.833010</td>\n",
              "    </tr>\n",
              "    <tr>\n",
              "      <th>12</th>\n",
              "      <td>8</td>\n",
              "      <td>1</td>\n",
              "      <td>gini</td>\n",
              "      <td>0.0</td>\n",
              "      <td>0.954076</td>\n",
              "      <td>0.010963</td>\n",
              "      <td>0.832686</td>\n",
              "    </tr>\n",
              "    <tr>\n",
              "      <th>54</th>\n",
              "      <td>11</td>\n",
              "      <td>5</td>\n",
              "      <td>entropy</td>\n",
              "      <td>0.0</td>\n",
              "      <td>0.958411</td>\n",
              "      <td>0.010676</td>\n",
              "      <td>0.832686</td>\n",
              "    </tr>\n",
              "  </tbody>\n",
              "</table>\n",
              "</div>"
            ],
            "text/plain": [
              "    max_depth  min_samples_leaf criterion  ccp_alpha  mean_cv_score  \\\n",
              "50         11                 1   entropy        0.0       0.959443   \n",
              "48         11                 1      gini        0.0       0.958204   \n",
              "26          9                 1   entropy        0.0       0.957688   \n",
              "38         10                 1   entropy        0.0       0.959236   \n",
              "30          9                 5   entropy        0.0       0.957276   \n",
              "24          9                 1      gini        0.0       0.955315   \n",
              "36         10                 1      gini        0.0       0.958720   \n",
              "14          8                 1   entropy        0.0       0.956553   \n",
              "12          8                 1      gini        0.0       0.954076   \n",
              "54         11                 5   entropy        0.0       0.958411   \n",
              "\n",
              "    std_cv_score  test_score  \n",
              "50      0.010893    0.842071  \n",
              "48      0.006988    0.839482  \n",
              "26      0.010625    0.838188  \n",
              "38      0.009427    0.835922  \n",
              "30      0.012539    0.833657  \n",
              "24      0.010154    0.833657  \n",
              "36      0.007527    0.833657  \n",
              "14      0.012039    0.833010  \n",
              "12      0.010963    0.832686  \n",
              "54      0.010676    0.832686  "
            ]
          },
          "execution_count": 9,
          "metadata": {},
          "output_type": "execute_result"
        }
      ],
      "source": [
        "# Since the code execution environment was reset, we'll need to re-define the function and import the required libraries again.\n",
        "import pandas as pd\n",
        "from sklearn.ensemble import RandomForestClassifier\n",
        "from sklearn.model_selection import cross_val_score\n",
        "import numpy as np\n",
        "\n",
        "# Function to run experiments on decision tree parameters\n",
        "def run_decision_tree_experiments(x, y, xt, yt):\n",
        "    # Define a range of parameters\n",
        "    max_depths = [7, 8, 9, 10, 11]  # Explore a range of depths\n",
        "    min_samples_leafs = [1, 5, 10]  # Increased range\n",
        "    # min_samples_leafs = [1, 5, 10, 15, 20, 25, 30]  # Increased range\n",
        "    criteria = ['gini', 'entropy']  # Both splitting criteria\n",
        "    # ccp_alphas = [0.0, 0.005, 0.01, 0.015, 0.02]  # Expanded range\n",
        "    ccp_alphas = [0.0, 0.005, ]  # Expanded range\n",
        "\n",
        "    # Store the results\n",
        "    experiment_results = []\n",
        "\n",
        "    # Nested loops to try out different combinations of parameters\n",
        "    for max_depth in max_depths:\n",
        "        for min_samples_leaf in min_samples_leafs:\n",
        "            for criterion in criteria:\n",
        "                for ccp_alpha in ccp_alphas:\n",
        "                    # Initialize the DecisionTreeClassifier with current set of parameters\n",
        "                    dt = RandomForestClassifier(max_depth=max_depth,\n",
        "                                                min_samples_leaf=min_samples_leaf,\n",
        "                                                criterion=criterion,\n",
        "                                                ccp_alpha=ccp_alpha,\n",
        "                                                random_state=0)\n",
        "\n",
        "                    # Perform 10-fold cross-validation on the training data\n",
        "                    cv_scores = cross_val_score(dt, x, y.values.ravel(), cv=10)\n",
        "                    mean_cv_score = np.mean(cv_scores)\n",
        "                    std_cv_score = np.std(cv_scores)\n",
        "\n",
        "                    # Fit the model and evaluate on the test set\n",
        "                    dt.fit(x, y.values.ravel())\n",
        "                    test_score = dt.score(xt, yt.values.ravel())\n",
        "\n",
        "                    # Record the results\n",
        "                    experiment_results.append({\n",
        "                        'max_depth': max_depth,\n",
        "                        'min_samples_leaf': min_samples_leaf,\n",
        "                        'criterion': criterion,\n",
        "                        'ccp_alpha': ccp_alpha,\n",
        "                        'mean_cv_score': mean_cv_score,\n",
        "                        'std_cv_score': std_cv_score,\n",
        "                        'test_score': test_score\n",
        "                    })\n",
        "# Convert results to DataFrame and sort by test score to find the best generalizing models\n",
        "    results_df = pd.DataFrame(experiment_results)\n",
        "    best_models = results_df.sort_values(by='test_score', ascending=False).head(10)\n",
        "    return best_models\n",
        "# Runing the experiments\n",
        "experiment_results_df = run_decision_tree_experiments(X_train_all_lda, y_train_all, X_test_all_lda, y_test_all)\n",
        "experiment_results_df\n"
      ]
    },
    {
      "cell_type": "code",
      "execution_count": null,
      "id": "43516f18",
      "metadata": {
        "id": "43516f18",
        "outputId": "d663e095-b24d-43dc-a329-89067c762a0c"
      },
      "outputs": [
        {
          "data": {
            "text/html": [
              "<div>\n",
              "<style scoped>\n",
              "    .dataframe tbody tr th:only-of-type {\n",
              "        vertical-align: middle;\n",
              "    }\n",
              "\n",
              "    .dataframe tbody tr th {\n",
              "        vertical-align: top;\n",
              "    }\n",
              "\n",
              "    .dataframe thead th {\n",
              "        text-align: right;\n",
              "    }\n",
              "</style>\n",
              "<table border=\"1\" class=\"dataframe\">\n",
              "  <thead>\n",
              "    <tr style=\"text-align: right;\">\n",
              "      <th></th>\n",
              "      <th>max_depth</th>\n",
              "      <th>min_samples_leaf</th>\n",
              "      <th>criterion</th>\n",
              "      <th>ccp_alpha</th>\n",
              "      <th>mean_cv_score</th>\n",
              "      <th>std_cv_score</th>\n",
              "      <th>test_score</th>\n",
              "    </tr>\n",
              "  </thead>\n",
              "  <tbody>\n",
              "    <tr>\n",
              "      <th>12</th>\n",
              "      <td>8</td>\n",
              "      <td>1</td>\n",
              "      <td>gini</td>\n",
              "      <td>0.0</td>\n",
              "      <td>0.954076</td>\n",
              "      <td>0.010963</td>\n",
              "      <td>0.832686</td>\n",
              "    </tr>\n",
              "    <tr>\n",
              "      <th>54</th>\n",
              "      <td>11</td>\n",
              "      <td>5</td>\n",
              "      <td>entropy</td>\n",
              "      <td>0.0</td>\n",
              "      <td>0.958411</td>\n",
              "      <td>0.010676</td>\n",
              "      <td>0.832686</td>\n",
              "    </tr>\n",
              "    <tr>\n",
              "      <th>14</th>\n",
              "      <td>8</td>\n",
              "      <td>1</td>\n",
              "      <td>entropy</td>\n",
              "      <td>0.0</td>\n",
              "      <td>0.956553</td>\n",
              "      <td>0.012039</td>\n",
              "      <td>0.833010</td>\n",
              "    </tr>\n",
              "    <tr>\n",
              "      <th>30</th>\n",
              "      <td>9</td>\n",
              "      <td>5</td>\n",
              "      <td>entropy</td>\n",
              "      <td>0.0</td>\n",
              "      <td>0.957276</td>\n",
              "      <td>0.012539</td>\n",
              "      <td>0.833657</td>\n",
              "    </tr>\n",
              "    <tr>\n",
              "      <th>24</th>\n",
              "      <td>9</td>\n",
              "      <td>1</td>\n",
              "      <td>gini</td>\n",
              "      <td>0.0</td>\n",
              "      <td>0.955315</td>\n",
              "      <td>0.010154</td>\n",
              "      <td>0.833657</td>\n",
              "    </tr>\n",
              "    <tr>\n",
              "      <th>36</th>\n",
              "      <td>10</td>\n",
              "      <td>1</td>\n",
              "      <td>gini</td>\n",
              "      <td>0.0</td>\n",
              "      <td>0.958720</td>\n",
              "      <td>0.007527</td>\n",
              "      <td>0.833657</td>\n",
              "    </tr>\n",
              "    <tr>\n",
              "      <th>38</th>\n",
              "      <td>10</td>\n",
              "      <td>1</td>\n",
              "      <td>entropy</td>\n",
              "      <td>0.0</td>\n",
              "      <td>0.959236</td>\n",
              "      <td>0.009427</td>\n",
              "      <td>0.835922</td>\n",
              "    </tr>\n",
              "    <tr>\n",
              "      <th>26</th>\n",
              "      <td>9</td>\n",
              "      <td>1</td>\n",
              "      <td>entropy</td>\n",
              "      <td>0.0</td>\n",
              "      <td>0.957688</td>\n",
              "      <td>0.010625</td>\n",
              "      <td>0.838188</td>\n",
              "    </tr>\n",
              "    <tr>\n",
              "      <th>48</th>\n",
              "      <td>11</td>\n",
              "      <td>1</td>\n",
              "      <td>gini</td>\n",
              "      <td>0.0</td>\n",
              "      <td>0.958204</td>\n",
              "      <td>0.006988</td>\n",
              "      <td>0.839482</td>\n",
              "    </tr>\n",
              "    <tr>\n",
              "      <th>50</th>\n",
              "      <td>11</td>\n",
              "      <td>1</td>\n",
              "      <td>entropy</td>\n",
              "      <td>0.0</td>\n",
              "      <td>0.959443</td>\n",
              "      <td>0.010893</td>\n",
              "      <td>0.842071</td>\n",
              "    </tr>\n",
              "  </tbody>\n",
              "</table>\n",
              "</div>"
            ],
            "text/plain": [
              "    max_depth  min_samples_leaf criterion  ccp_alpha  mean_cv_score  \\\n",
              "12          8                 1      gini        0.0       0.954076   \n",
              "54         11                 5   entropy        0.0       0.958411   \n",
              "14          8                 1   entropy        0.0       0.956553   \n",
              "30          9                 5   entropy        0.0       0.957276   \n",
              "24          9                 1      gini        0.0       0.955315   \n",
              "36         10                 1      gini        0.0       0.958720   \n",
              "38         10                 1   entropy        0.0       0.959236   \n",
              "26          9                 1   entropy        0.0       0.957688   \n",
              "48         11                 1      gini        0.0       0.958204   \n",
              "50         11                 1   entropy        0.0       0.959443   \n",
              "\n",
              "    std_cv_score  test_score  \n",
              "12      0.010963    0.832686  \n",
              "54      0.010676    0.832686  \n",
              "14      0.012039    0.833010  \n",
              "30      0.012539    0.833657  \n",
              "24      0.010154    0.833657  \n",
              "36      0.007527    0.833657  \n",
              "38      0.009427    0.835922  \n",
              "26      0.010625    0.838188  \n",
              "48      0.006988    0.839482  \n",
              "50      0.010893    0.842071  "
            ]
          },
          "execution_count": 10,
          "metadata": {},
          "output_type": "execute_result"
        }
      ],
      "source": [
        "experiment_results_df.sort_values(\"test_score\").head(10)"
      ]
    },
    {
      "cell_type": "markdown",
      "id": "0ad26407",
      "metadata": {
        "id": "0ad26407"
      },
      "source": [
        "Conclusion:  \n",
        "\n",
        "- Model accuracy increases with tree depth, showing better pattern recognition with more complexity, up to a certain point.\n",
        "\n",
        "\n",
        "- Beyond a depth of 6, accuracy gains are minimal, **hinting at overfitting** where the model may start to learn the noise in the training data.\n",
        "Optimal Depth Determination:\n",
        "\n",
        "- A tree depth of **6 or 7** yields the **best trade-off between accuracy and model simplicity**, indicating these levels as **optimal for preventing overfitting while maintaining high predictive performance.**\n",
        "\n",
        "- Regularization introduced through **ccp_alpha** shows varied effects; however, the best results were obtained **without its application**, suggesting minimal benefit from pruning in this context."
      ]
    },
    {
      "cell_type": "markdown",
      "id": "1e5e7235",
      "metadata": {
        "id": "1e5e7235"
      },
      "source": [
        "**Make new training and testing sets, by moving 30% of the instances from the original training set into the testing set. Note the accuracies on the training and the testing sets**"
      ]
    },
    {
      "cell_type": "code",
      "execution_count": null,
      "id": "d6391018",
      "metadata": {
        "id": "d6391018"
      },
      "outputs": [],
      "source": [
        "# Splitting the training data for learning, testing and validation\n",
        "x_train7030, x_test7030, y_train7030, y_test7030 = train_test_split(x_train_all, y_train_all, test_size=0.3, random_state=42)\n",
        "\n",
        "# Normalize feature data since LDA is affected by scale\n",
        "scaler = StandardScaler()\n",
        "X_train_scaled = scaler.fit_transform(x_train7030)\n",
        "X_test_scaled = scaler.transform(x_test7030)\n",
        "# Initialize LDA and fit it to the training data\n",
        "lda = LinearDiscriminantAnalysis(n_components=None)  # selecting the maximum number of possible features using LDA = number of classes-1\n",
        "X_train_lda7030 = lda.fit_transform(X_train_scaled, y_train7030.values.ravel())\n",
        "X_test_lda7030 = lda.transform(X_test_scaled)"
      ]
    },
    {
      "cell_type": "code",
      "execution_count": null,
      "id": "94770628",
      "metadata": {
        "id": "94770628"
      },
      "outputs": [],
      "source": [
        "# Expriminting the model with 70-30% splitting ratio\n",
        "experiment_results_df7030 = run_decision_tree_experiments(X_train_lda7030, y_train7030, X_test_lda7030, y_test7030)\n"
      ]
    },
    {
      "cell_type": "code",
      "execution_count": null,
      "id": "0cb77758",
      "metadata": {
        "id": "0cb77758",
        "outputId": "c3603482-aa0f-46a9-d299-b76cc7df1fe7"
      },
      "outputs": [
        {
          "data": {
            "text/html": [
              "<div>\n",
              "<style scoped>\n",
              "    .dataframe tbody tr th:only-of-type {\n",
              "        vertical-align: middle;\n",
              "    }\n",
              "\n",
              "    .dataframe tbody tr th {\n",
              "        vertical-align: top;\n",
              "    }\n",
              "\n",
              "    .dataframe thead th {\n",
              "        text-align: right;\n",
              "    }\n",
              "</style>\n",
              "<table border=\"1\" class=\"dataframe\">\n",
              "  <thead>\n",
              "    <tr style=\"text-align: right;\">\n",
              "      <th></th>\n",
              "      <th>max_depth</th>\n",
              "      <th>min_samples_leaf</th>\n",
              "      <th>criterion</th>\n",
              "      <th>ccp_alpha</th>\n",
              "      <th>mean_cv_score</th>\n",
              "      <th>std_cv_score</th>\n",
              "      <th>test_score</th>\n",
              "    </tr>\n",
              "  </thead>\n",
              "  <tbody>\n",
              "    <tr>\n",
              "      <th>48</th>\n",
              "      <td>11</td>\n",
              "      <td>1</td>\n",
              "      <td>gini</td>\n",
              "      <td>0.0</td>\n",
              "      <td>0.975233</td>\n",
              "      <td>0.007153</td>\n",
              "      <td>0.827313</td>\n",
              "    </tr>\n",
              "    <tr>\n",
              "      <th>36</th>\n",
              "      <td>10</td>\n",
              "      <td>1</td>\n",
              "      <td>gini</td>\n",
              "      <td>0.0</td>\n",
              "      <td>0.974053</td>\n",
              "      <td>0.007437</td>\n",
              "      <td>0.823185</td>\n",
              "    </tr>\n",
              "    <tr>\n",
              "      <th>38</th>\n",
              "      <td>10</td>\n",
              "      <td>1</td>\n",
              "      <td>entropy</td>\n",
              "      <td>0.0</td>\n",
              "      <td>0.974200</td>\n",
              "      <td>0.006894</td>\n",
              "      <td>0.822841</td>\n",
              "    </tr>\n",
              "    <tr>\n",
              "      <th>50</th>\n",
              "      <td>11</td>\n",
              "      <td>1</td>\n",
              "      <td>entropy</td>\n",
              "      <td>0.0</td>\n",
              "      <td>0.975379</td>\n",
              "      <td>0.007010</td>\n",
              "      <td>0.822497</td>\n",
              "    </tr>\n",
              "    <tr>\n",
              "      <th>26</th>\n",
              "      <td>9</td>\n",
              "      <td>1</td>\n",
              "      <td>entropy</td>\n",
              "      <td>0.0</td>\n",
              "      <td>0.974052</td>\n",
              "      <td>0.007378</td>\n",
              "      <td>0.820089</td>\n",
              "    </tr>\n",
              "    <tr>\n",
              "      <th>14</th>\n",
              "      <td>8</td>\n",
              "      <td>1</td>\n",
              "      <td>entropy</td>\n",
              "      <td>0.0</td>\n",
              "      <td>0.972578</td>\n",
              "      <td>0.007288</td>\n",
              "      <td>0.818025</td>\n",
              "    </tr>\n",
              "    <tr>\n",
              "      <th>54</th>\n",
              "      <td>11</td>\n",
              "      <td>5</td>\n",
              "      <td>entropy</td>\n",
              "      <td>0.0</td>\n",
              "      <td>0.973020</td>\n",
              "      <td>0.006822</td>\n",
              "      <td>0.816993</td>\n",
              "    </tr>\n",
              "    <tr>\n",
              "      <th>42</th>\n",
              "      <td>10</td>\n",
              "      <td>5</td>\n",
              "      <td>entropy</td>\n",
              "      <td>0.0</td>\n",
              "      <td>0.972873</td>\n",
              "      <td>0.007405</td>\n",
              "      <td>0.816993</td>\n",
              "    </tr>\n",
              "    <tr>\n",
              "      <th>24</th>\n",
              "      <td>9</td>\n",
              "      <td>1</td>\n",
              "      <td>gini</td>\n",
              "      <td>0.0</td>\n",
              "      <td>0.973906</td>\n",
              "      <td>0.007249</td>\n",
              "      <td>0.816993</td>\n",
              "    </tr>\n",
              "    <tr>\n",
              "      <th>40</th>\n",
              "      <td>10</td>\n",
              "      <td>5</td>\n",
              "      <td>gini</td>\n",
              "      <td>0.0</td>\n",
              "      <td>0.972726</td>\n",
              "      <td>0.006467</td>\n",
              "      <td>0.815617</td>\n",
              "    </tr>\n",
              "  </tbody>\n",
              "</table>\n",
              "</div>"
            ],
            "text/plain": [
              "    max_depth  min_samples_leaf criterion  ccp_alpha  mean_cv_score  \\\n",
              "48         11                 1      gini        0.0       0.975233   \n",
              "36         10                 1      gini        0.0       0.974053   \n",
              "38         10                 1   entropy        0.0       0.974200   \n",
              "50         11                 1   entropy        0.0       0.975379   \n",
              "26          9                 1   entropy        0.0       0.974052   \n",
              "14          8                 1   entropy        0.0       0.972578   \n",
              "54         11                 5   entropy        0.0       0.973020   \n",
              "42         10                 5   entropy        0.0       0.972873   \n",
              "24          9                 1      gini        0.0       0.973906   \n",
              "40         10                 5      gini        0.0       0.972726   \n",
              "\n",
              "    std_cv_score  test_score  \n",
              "48      0.007153    0.827313  \n",
              "36      0.007437    0.823185  \n",
              "38      0.006894    0.822841  \n",
              "50      0.007010    0.822497  \n",
              "26      0.007378    0.820089  \n",
              "14      0.007288    0.818025  \n",
              "54      0.006822    0.816993  \n",
              "42      0.007405    0.816993  \n",
              "24      0.007249    0.816993  \n",
              "40      0.006467    0.815617  "
            ]
          },
          "execution_count": 13,
          "metadata": {},
          "output_type": "execute_result"
        }
      ],
      "source": [
        "experiment_results_df7030"
      ]
    },
    {
      "cell_type": "markdown",
      "id": "fc333a8a",
      "metadata": {
        "id": "fc333a8a"
      },
      "source": [
        "**Make new training and testing sets, by moving 60% of the instances from the original training set into the testing set. Note the accuracies on the training and the testing sets**"
      ]
    },
    {
      "cell_type": "code",
      "execution_count": null,
      "id": "8446a4bb",
      "metadata": {
        "id": "8446a4bb"
      },
      "outputs": [],
      "source": [
        "# Splitting the training data for learning, testing and validation\n",
        "x_train4060, x_test4060, y_train4060, y_test4060 = train_test_split(x_train_all, y_train_all, test_size=0.6, random_state=42)"
      ]
    },
    {
      "cell_type": "code",
      "execution_count": null,
      "id": "bdf05a85",
      "metadata": {
        "id": "bdf05a85"
      },
      "outputs": [],
      "source": [
        "# Normalize feature data since LDA is affected by scale\n",
        "scaler = StandardScaler()\n",
        "X_train_scaled = scaler.fit_transform(x_train4060)\n",
        "X_test_scaled = scaler.transform(x_test4060)\n",
        "# Initialize LDA and fit it to the training data\n",
        "lda = LinearDiscriminantAnalysis(n_components=None)  # selecting the maximum number of possible features using LDA = number of classes-1\n",
        "X_train_lda4060 = lda.fit_transform(X_train_scaled, y_train4060.values.ravel())\n",
        "X_test_lda4060 = lda.transform(X_test_scaled)"
      ]
    },
    {
      "cell_type": "code",
      "execution_count": null,
      "id": "1f8de6e5",
      "metadata": {
        "id": "1f8de6e5"
      },
      "outputs": [],
      "source": [
        "# Expriminting the model with 40-60% splitting ratio\n",
        "experiment_results_df4060 = run_decision_tree_experiments(X_train_lda4060, y_train4060, X_test_lda4060, y_test4060)"
      ]
    },
    {
      "cell_type": "code",
      "execution_count": null,
      "id": "4386dfa1",
      "metadata": {
        "id": "4386dfa1",
        "outputId": "25fcac29-0295-40d5-f25a-a6eb267d11fe"
      },
      "outputs": [
        {
          "data": {
            "text/html": [
              "<div>\n",
              "<style scoped>\n",
              "    .dataframe tbody tr th:only-of-type {\n",
              "        vertical-align: middle;\n",
              "    }\n",
              "\n",
              "    .dataframe tbody tr th {\n",
              "        vertical-align: top;\n",
              "    }\n",
              "\n",
              "    .dataframe thead th {\n",
              "        text-align: right;\n",
              "    }\n",
              "</style>\n",
              "<table border=\"1\" class=\"dataframe\">\n",
              "  <thead>\n",
              "    <tr style=\"text-align: right;\">\n",
              "      <th></th>\n",
              "      <th>max_depth</th>\n",
              "      <th>min_samples_leaf</th>\n",
              "      <th>criterion</th>\n",
              "      <th>ccp_alpha</th>\n",
              "      <th>mean_cv_score</th>\n",
              "      <th>std_cv_score</th>\n",
              "      <th>test_score</th>\n",
              "    </tr>\n",
              "  </thead>\n",
              "  <tbody>\n",
              "    <tr>\n",
              "      <th>14</th>\n",
              "      <td>8</td>\n",
              "      <td>1</td>\n",
              "      <td>entropy</td>\n",
              "      <td>0.0</td>\n",
              "      <td>0.986067</td>\n",
              "      <td>0.007586</td>\n",
              "      <td>0.637427</td>\n",
              "    </tr>\n",
              "    <tr>\n",
              "      <th>38</th>\n",
              "      <td>10</td>\n",
              "      <td>1</td>\n",
              "      <td>entropy</td>\n",
              "      <td>0.0</td>\n",
              "      <td>0.986066</td>\n",
              "      <td>0.007040</td>\n",
              "      <td>0.633471</td>\n",
              "    </tr>\n",
              "    <tr>\n",
              "      <th>2</th>\n",
              "      <td>7</td>\n",
              "      <td>1</td>\n",
              "      <td>entropy</td>\n",
              "      <td>0.0</td>\n",
              "      <td>0.984262</td>\n",
              "      <td>0.006870</td>\n",
              "      <td>0.628655</td>\n",
              "    </tr>\n",
              "    <tr>\n",
              "      <th>50</th>\n",
              "      <td>11</td>\n",
              "      <td>1</td>\n",
              "      <td>entropy</td>\n",
              "      <td>0.0</td>\n",
              "      <td>0.985809</td>\n",
              "      <td>0.008181</td>\n",
              "      <td>0.628139</td>\n",
              "    </tr>\n",
              "    <tr>\n",
              "      <th>26</th>\n",
              "      <td>9</td>\n",
              "      <td>1</td>\n",
              "      <td>entropy</td>\n",
              "      <td>0.0</td>\n",
              "      <td>0.985809</td>\n",
              "      <td>0.007590</td>\n",
              "      <td>0.627795</td>\n",
              "    </tr>\n",
              "    <tr>\n",
              "      <th>30</th>\n",
              "      <td>9</td>\n",
              "      <td>5</td>\n",
              "      <td>entropy</td>\n",
              "      <td>0.0</td>\n",
              "      <td>0.984519</td>\n",
              "      <td>0.008857</td>\n",
              "      <td>0.625559</td>\n",
              "    </tr>\n",
              "    <tr>\n",
              "      <th>42</th>\n",
              "      <td>10</td>\n",
              "      <td>5</td>\n",
              "      <td>entropy</td>\n",
              "      <td>0.0</td>\n",
              "      <td>0.984519</td>\n",
              "      <td>0.008857</td>\n",
              "      <td>0.624527</td>\n",
              "    </tr>\n",
              "    <tr>\n",
              "      <th>48</th>\n",
              "      <td>11</td>\n",
              "      <td>1</td>\n",
              "      <td>gini</td>\n",
              "      <td>0.0</td>\n",
              "      <td>0.987358</td>\n",
              "      <td>0.006866</td>\n",
              "      <td>0.624183</td>\n",
              "    </tr>\n",
              "    <tr>\n",
              "      <th>10</th>\n",
              "      <td>7</td>\n",
              "      <td>10</td>\n",
              "      <td>entropy</td>\n",
              "      <td>0.0</td>\n",
              "      <td>0.982454</td>\n",
              "      <td>0.007639</td>\n",
              "      <td>0.623839</td>\n",
              "    </tr>\n",
              "    <tr>\n",
              "      <th>18</th>\n",
              "      <td>8</td>\n",
              "      <td>5</td>\n",
              "      <td>entropy</td>\n",
              "      <td>0.0</td>\n",
              "      <td>0.984520</td>\n",
              "      <td>0.008395</td>\n",
              "      <td>0.623495</td>\n",
              "    </tr>\n",
              "  </tbody>\n",
              "</table>\n",
              "</div>"
            ],
            "text/plain": [
              "    max_depth  min_samples_leaf criterion  ccp_alpha  mean_cv_score  \\\n",
              "14          8                 1   entropy        0.0       0.986067   \n",
              "38         10                 1   entropy        0.0       0.986066   \n",
              "2           7                 1   entropy        0.0       0.984262   \n",
              "50         11                 1   entropy        0.0       0.985809   \n",
              "26          9                 1   entropy        0.0       0.985809   \n",
              "30          9                 5   entropy        0.0       0.984519   \n",
              "42         10                 5   entropy        0.0       0.984519   \n",
              "48         11                 1      gini        0.0       0.987358   \n",
              "10          7                10   entropy        0.0       0.982454   \n",
              "18          8                 5   entropy        0.0       0.984520   \n",
              "\n",
              "    std_cv_score  test_score  \n",
              "14      0.007586    0.637427  \n",
              "38      0.007040    0.633471  \n",
              "2       0.006870    0.628655  \n",
              "50      0.008181    0.628139  \n",
              "26      0.007590    0.627795  \n",
              "30      0.008857    0.625559  \n",
              "42      0.008857    0.624527  \n",
              "48      0.006866    0.624183  \n",
              "10      0.007639    0.623839  \n",
              "18      0.008395    0.623495  "
            ]
          },
          "execution_count": 17,
          "metadata": {},
          "output_type": "execute_result"
        }
      ],
      "source": [
        "experiment_results_df4060"
      ]
    },
    {
      "cell_type": "markdown",
      "id": "84c985d0",
      "metadata": {
        "id": "84c985d0"
      },
      "source": [
        "**Analyse your results from the point of view of the problem of classifier over-fitting. Do you notice the effects of over-fitting? How? Note your conclusions in the Jupyter notebook.**"
      ]
    },
    {
      "cell_type": "markdown",
      "id": "fc5c07c1",
      "metadata": {
        "id": "fc5c07c1"
      },
      "source": [
        "It's noticeable that when the size of the training dataset is reduced from 70% to 40%, there is an increase in the cross-validation score but a decrease in the test score. **This is a strong indicator that the model is overfitting**, as it performs better on the smaller training set and validation folds but worse on the independent test data."
      ]
    },
    {
      "cell_type": "code",
      "execution_count": null,
      "id": "b775866a",
      "metadata": {
        "id": "b775866a",
        "outputId": "dc02b1d1-2d05-4626-d363-c82679c12e94"
      },
      "outputs": [
        {
          "data": {
            "text/html": [
              "<style>#sk-container-id-1 {color: black;background-color: white;}#sk-container-id-1 pre{padding: 0;}#sk-container-id-1 div.sk-toggleable {background-color: white;}#sk-container-id-1 label.sk-toggleable__label {cursor: pointer;display: block;width: 100%;margin-bottom: 0;padding: 0.3em;box-sizing: border-box;text-align: center;}#sk-container-id-1 label.sk-toggleable__label-arrow:before {content: \"▸\";float: left;margin-right: 0.25em;color: #696969;}#sk-container-id-1 label.sk-toggleable__label-arrow:hover:before {color: black;}#sk-container-id-1 div.sk-estimator:hover label.sk-toggleable__label-arrow:before {color: black;}#sk-container-id-1 div.sk-toggleable__content {max-height: 0;max-width: 0;overflow: hidden;text-align: left;background-color: #f0f8ff;}#sk-container-id-1 div.sk-toggleable__content pre {margin: 0.2em;color: black;border-radius: 0.25em;background-color: #f0f8ff;}#sk-container-id-1 input.sk-toggleable__control:checked~div.sk-toggleable__content {max-height: 200px;max-width: 100%;overflow: auto;}#sk-container-id-1 input.sk-toggleable__control:checked~label.sk-toggleable__label-arrow:before {content: \"▾\";}#sk-container-id-1 div.sk-estimator input.sk-toggleable__control:checked~label.sk-toggleable__label {background-color: #d4ebff;}#sk-container-id-1 div.sk-label input.sk-toggleable__control:checked~label.sk-toggleable__label {background-color: #d4ebff;}#sk-container-id-1 input.sk-hidden--visually {border: 0;clip: rect(1px 1px 1px 1px);clip: rect(1px, 1px, 1px, 1px);height: 1px;margin: -1px;overflow: hidden;padding: 0;position: absolute;width: 1px;}#sk-container-id-1 div.sk-estimator {font-family: monospace;background-color: #f0f8ff;border: 1px dotted black;border-radius: 0.25em;box-sizing: border-box;margin-bottom: 0.5em;}#sk-container-id-1 div.sk-estimator:hover {background-color: #d4ebff;}#sk-container-id-1 div.sk-parallel-item::after {content: \"\";width: 100%;border-bottom: 1px solid gray;flex-grow: 1;}#sk-container-id-1 div.sk-label:hover label.sk-toggleable__label {background-color: #d4ebff;}#sk-container-id-1 div.sk-serial::before {content: \"\";position: absolute;border-left: 1px solid gray;box-sizing: border-box;top: 0;bottom: 0;left: 50%;z-index: 0;}#sk-container-id-1 div.sk-serial {display: flex;flex-direction: column;align-items: center;background-color: white;padding-right: 0.2em;padding-left: 0.2em;position: relative;}#sk-container-id-1 div.sk-item {position: relative;z-index: 1;}#sk-container-id-1 div.sk-parallel {display: flex;align-items: stretch;justify-content: center;background-color: white;position: relative;}#sk-container-id-1 div.sk-item::before, #sk-container-id-1 div.sk-parallel-item::before {content: \"\";position: absolute;border-left: 1px solid gray;box-sizing: border-box;top: 0;bottom: 0;left: 50%;z-index: -1;}#sk-container-id-1 div.sk-parallel-item {display: flex;flex-direction: column;z-index: 1;position: relative;background-color: white;}#sk-container-id-1 div.sk-parallel-item:first-child::after {align-self: flex-end;width: 50%;}#sk-container-id-1 div.sk-parallel-item:last-child::after {align-self: flex-start;width: 50%;}#sk-container-id-1 div.sk-parallel-item:only-child::after {width: 0;}#sk-container-id-1 div.sk-dashed-wrapped {border: 1px dashed gray;margin: 0 0.4em 0.5em 0.4em;box-sizing: border-box;padding-bottom: 0.4em;background-color: white;}#sk-container-id-1 div.sk-label label {font-family: monospace;font-weight: bold;display: inline-block;line-height: 1.2em;}#sk-container-id-1 div.sk-label-container {text-align: center;}#sk-container-id-1 div.sk-container {/* jupyter's `normalize.less` sets `[hidden] { display: none; }` but bootstrap.min.css set `[hidden] { display: none !important; }` so we also need the `!important` here to be able to override the default hidden behavior on the sphinx rendered scikit-learn.org. See: https://github.com/scikit-learn/scikit-learn/issues/21755 */display: inline-block !important;position: relative;}#sk-container-id-1 div.sk-text-repr-fallback {display: none;}</style><div id=\"sk-container-id-1\" class=\"sk-top-container\"><div class=\"sk-text-repr-fallback\"><pre>RandomForestClassifier(max_depth=8, random_state=42)</pre><b>In a Jupyter environment, please rerun this cell to show the HTML representation or trust the notebook. <br />On GitHub, the HTML representation is unable to render, please try loading this page with nbviewer.org.</b></div><div class=\"sk-container\" hidden><div class=\"sk-item\"><div class=\"sk-estimator sk-toggleable\"><input class=\"sk-toggleable__control sk-hidden--visually\" id=\"sk-estimator-id-1\" type=\"checkbox\" checked><label for=\"sk-estimator-id-1\" class=\"sk-toggleable__label sk-toggleable__label-arrow\">RandomForestClassifier</label><div class=\"sk-toggleable__content\"><pre>RandomForestClassifier(max_depth=8, random_state=42)</pre></div></div></div></div></div>"
            ],
            "text/plain": [
              "RandomForestClassifier(max_depth=8, random_state=42)"
            ]
          },
          "execution_count": 18,
          "metadata": {},
          "output_type": "execute_result"
        }
      ],
      "source": [
        "clf = RandomForestClassifier(max_depth=8, random_state=42)\n",
        "clf.fit(X_train_lda, y_train.values.ravel())"
      ]
    },
    {
      "cell_type": "code",
      "execution_count": null,
      "id": "14c9f5d2",
      "metadata": {
        "id": "14c9f5d2"
      },
      "outputs": [],
      "source": [
        "# Normalize feature data since LDA is affected by scale\n",
        "scaler = StandardScaler()\n",
        "X_train_scaled = scaler.fit_transform(x_train_all)\n",
        "X_test_scaled = scaler.transform(x_test_all)\n",
        "# Initialize LDA and fit it to the training data\n",
        "lda = LinearDiscriminantAnalysis(n_components=None)  # selecting the maximum number of possible features using LDA = number of classes-1\n",
        "X_train_lda = lda.fit_transform(X_train_scaled, y_train_all.values.ravel())\n",
        "X_test_lda = lda.transform(X_test_scaled)"
      ]
    },
    {
      "cell_type": "code",
      "execution_count": null,
      "id": "ed7b4240",
      "metadata": {
        "id": "ed7b4240"
      },
      "outputs": [],
      "source": [
        "clf = RandomForestClassifier(max_depth=11, random_state=42)\n",
        "clf.fit(X_train_lda, y_train_all.values.ravel())"
      ]
    }
  ],
  "metadata": {
    "colab": {
      "provenance": [],
      "include_colab_link": true
    },
    "kernelspec": {
      "display_name": "Python 3",
      "name": "python3"
    },
    "language_info": {
      "codemirror_mode": {
        "name": "ipython",
        "version": 3
      },
      "file_extension": ".py",
      "mimetype": "text/x-python",
      "name": "python",
      "nbconvert_exporter": "python",
      "pygments_lexer": "ipython3",
      "version": "3.10.1"
    }
  },
  "nbformat": 4,
  "nbformat_minor": 5
}